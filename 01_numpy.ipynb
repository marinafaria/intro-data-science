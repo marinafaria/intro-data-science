{
  "cells": [
    {
      "cell_type": "markdown",
      "metadata": {
        "id": "view-in-github",
        "colab_type": "text"
      },
      "source": [
        "<a href=\"https://colab.research.google.com/github/marinafaria/intro-date-science/blob/main/01_numpy.ipynb\" target=\"_parent\"><img src=\"https://colab.research.google.com/assets/colab-badge.svg\" alt=\"Open In Colab\"/></a>"
      ]
    },
    {
      "cell_type": "markdown",
      "metadata": {
        "id": "Xh2WK4sWg9fq"
      },
      "source": [
        "# Lista 01 - Introdução e Revisão Numpy\n",
        "\n",
        "[NumPy](http://numpy.org) é um pacote incrivelmente poderoso em Python, onipresente em qualquer projeto de ciência de dados. Possui forte integração com o [Pandas](http://pandas.pydata.org), outra ferramenta que iremos abordar na matéria. NumPy adiciona suporte para matrizes multidimensionais e funções matemáticas que permitem que você execute facilmente cálculos de álgebra linear. Este notebook será uma coleção de exemplos de álgebra linear computados usando NumPy. \n",
        "\n",
        "## Numpy \n",
        "\n",
        "Para fazer uso de Numpy precisamos importar a biblioteca"
      ]
    },
    {
      "cell_type": "code",
      "execution_count": 4,
      "metadata": {
        "id": "FMirpW4og9fw"
      },
      "outputs": [],
      "source": [
        "# -*- coding: utf8\n",
        "\n",
        "import numpy as np"
      ]
    },
    {
      "cell_type": "markdown",
      "metadata": {
        "id": "na7PKB_Mg9fy"
      },
      "source": [
        "Quando pensamos no lado prático de ciência de dados, um aspecto chave que ajuda na implementação de novos algoritmos é a vetorização. De forma simples, vetorização consiste do uso de tipos como **escalar**, **vetor** e **matriz** para realizar uma computação mais eficaz (em tempo de execução).\n",
        "\n",
        "Uma matriz é uma coleção de valores, normalmente representada por uma grade 𝑚 × 𝑛, onde 𝑚 é o número de linhas e 𝑛 é o número de colunas. Os comprimentos das arestas 𝑚 e 𝑛 não precisam ser necessariamente diferentes. Se tivermos 𝑚 = 𝑛, chamamos isso de matriz quadrada. Um caso particularmente interessante de uma matriz é quando 𝑚 = 1 ou 𝑛 = 1. Nesse caso, temos um caso especial de uma matriz que chamamos de vetor. Embora haja um objeto de matriz em NumPy, faremos tudo usando matrizes NumPy porque elas podem ter dimensões maiores que 2. \n",
        "\n",
        "1. **Escalar:** Um vetor de zero dimensões"
      ]
    },
    {
      "cell_type": "code",
      "execution_count": 5,
      "metadata": {
        "id": "4N_SfspLg9fz",
        "outputId": "929197c9-02e9-43ff-c8fd-365e84996c1b",
        "colab": {
          "base_uri": "https://localhost:8080/"
        }
      },
      "outputs": [
        {
          "output_type": "execute_result",
          "data": {
            "text/plain": [
              "1"
            ]
          },
          "metadata": {},
          "execution_count": 5
        }
      ],
      "source": [
        "1"
      ]
    },
    {
      "cell_type": "markdown",
      "metadata": {
        "id": "EMML5Hvzg9f0"
      },
      "source": [
        "2. **Vetor:** Representa uma dimensão"
      ]
    },
    {
      "cell_type": "markdown",
      "metadata": {
        "id": "8iS-MVNkg9f0"
      },
      "source": [
        "Abaixo vamos criar um vetor simples. Inicialmente, vamos criar uma lista."
      ]
    },
    {
      "cell_type": "code",
      "execution_count": 6,
      "metadata": {
        "id": "e0dAkKG1g9f1"
      },
      "outputs": [],
      "source": [
        "data_list = [3.5, 5, 2, 8, 4.2]"
      ]
    },
    {
      "cell_type": "markdown",
      "metadata": {
        "id": "Ei6LBsW3g9f2"
      },
      "source": [
        "Observe o tipo da mesma."
      ]
    },
    {
      "cell_type": "code",
      "execution_count": 7,
      "metadata": {
        "id": "UC2uOjIog9f2",
        "outputId": "5795df8c-1ff6-4c77-ccd1-f2f02bd5cde8",
        "colab": {
          "base_uri": "https://localhost:8080/"
        }
      },
      "outputs": [
        {
          "output_type": "execute_result",
          "data": {
            "text/plain": [
              "list"
            ]
          },
          "metadata": {},
          "execution_count": 7
        }
      ],
      "source": [
        "type(data_list)"
      ]
    },
    {
      "cell_type": "markdown",
      "metadata": {
        "id": "YDGeRayNg9f3"
      },
      "source": [
        "Embora vetores e listas sejam parecidos, vetores Numpy são otimizados para operações de Álgebra Linear. Ciência de Dados faz bastante uso de tais operações, sendo este um dos motivos da dependência em Numpy.\n",
        "\n",
        "Abaixo criamos um vetor."
      ]
    },
    {
      "cell_type": "code",
      "execution_count": 8,
      "metadata": {
        "id": "MzUzLv4Pg9f4",
        "outputId": "bd4b3b5b-7f03-4353-ddee-d492f9c18148",
        "colab": {
          "base_uri": "https://localhost:8080/"
        }
      },
      "outputs": [
        {
          "output_type": "stream",
          "name": "stdout",
          "text": [
            "[3.5 5.  2.  8.  4.2]\n",
            "<class 'numpy.ndarray'>\n"
          ]
        }
      ],
      "source": [
        "data = np.array(data_list)\n",
        "print(data)\n",
        "print(type(data))"
      ]
    },
    {
      "cell_type": "markdown",
      "metadata": {
        "id": "EW9vxfwHg9f4"
      },
      "source": [
        "Observe como podemos somar o mesmo com um número. Não é possível fazer tal operação com listas."
      ]
    },
    {
      "cell_type": "code",
      "execution_count": 9,
      "metadata": {
        "id": "5tCENKjVg9f5",
        "outputId": "f5466e9c-2451-41ec-dec8-99909708e381",
        "colab": {
          "base_uri": "https://localhost:8080/"
        }
      },
      "outputs": [
        {
          "output_type": "execute_result",
          "data": {
            "text/plain": [
              "array([10.5, 12. ,  9. , 15. , 11.2])"
            ]
          },
          "metadata": {},
          "execution_count": 9
        }
      ],
      "source": [
        "data + 7"
      ]
    },
    {
      "cell_type": "markdown",
      "metadata": {
        "id": "Vzzutm-Zg9f5"
      },
      "source": [
        "3. **Matrizes:** Representam duas dimensões."
      ]
    },
    {
      "cell_type": "code",
      "execution_count": 10,
      "metadata": {
        "id": "uZK1eEeGg9f6",
        "outputId": "f368ba79-360e-4f0d-a81e-d3da6abf36d9",
        "colab": {
          "base_uri": "https://localhost:8080/"
        }
      },
      "outputs": [
        {
          "output_type": "execute_result",
          "data": {
            "text/plain": [
              "array([[2, 4],\n",
              "       [1, 3]])"
            ]
          },
          "metadata": {},
          "execution_count": 10
        }
      ],
      "source": [
        "X = np.array([[2, 4],\n",
        "              [1, 3]])\n",
        "X"
      ]
    },
    {
      "cell_type": "markdown",
      "metadata": {
        "id": "vNec1Bg1g9f6"
      },
      "source": [
        "Podemos indexar as matrizes e os vetores."
      ]
    },
    {
      "cell_type": "code",
      "execution_count": 11,
      "metadata": {
        "id": "7H-cvjMFg9f6",
        "outputId": "80efb856-e9eb-45ce-cbcd-87845dd9127c",
        "colab": {
          "base_uri": "https://localhost:8080/"
        }
      },
      "outputs": [
        {
          "output_type": "execute_result",
          "data": {
            "text/plain": [
              "3.5"
            ]
          },
          "metadata": {},
          "execution_count": 11
        }
      ],
      "source": [
        "data[0]"
      ]
    },
    {
      "cell_type": "code",
      "execution_count": 12,
      "metadata": {
        "id": "wtWAPmF-g9f7",
        "outputId": "8bcdc19c-cff2-42fe-d59c-71143ea01405",
        "colab": {
          "base_uri": "https://localhost:8080/"
        }
      },
      "outputs": [
        {
          "output_type": "execute_result",
          "data": {
            "text/plain": [
              "4"
            ]
          },
          "metadata": {},
          "execution_count": 12
        }
      ],
      "source": [
        "X[0, 1] # aqui é primeira linha, segunda coluna"
      ]
    },
    {
      "cell_type": "markdown",
      "metadata": {
        "id": "hjdOh626g9f7"
      },
      "source": [
        "Podemos também criar vetores/matrizes de números aleatórios"
      ]
    },
    {
      "cell_type": "code",
      "execution_count": 13,
      "metadata": {
        "id": "dO16MyI_g9f7",
        "outputId": "989743d7-929f-4ac3-e2ae-90ad8dc18146",
        "colab": {
          "base_uri": "https://localhost:8080/"
        }
      },
      "outputs": [
        {
          "output_type": "stream",
          "name": "stdout",
          "text": [
            "[[-0.75545531  0.03848527 -0.01104999]\n",
            " [ 2.27300375 -1.33284319 -1.25030265]\n",
            " [-0.39917009 -0.62283928 -0.91466798]\n",
            " [ 0.72024678  0.18121634  0.77104348]]\n"
          ]
        }
      ],
      "source": [
        "X = np.random.randn(4, 3) # Gera números aleatórios de uma normal\n",
        "print(X)"
      ]
    },
    {
      "cell_type": "markdown",
      "metadata": {
        "id": "jO1nujlfg9f8"
      },
      "source": [
        "### Indexando\n",
        "\n",
        "Pegando a primeira linha"
      ]
    },
    {
      "cell_type": "code",
      "execution_count": 14,
      "metadata": {
        "id": "Yh0-6Gcpg9f8",
        "outputId": "0c8a377d-0cc5-46c6-c8f8-41a7652285e5",
        "colab": {
          "base_uri": "https://localhost:8080/"
        }
      },
      "outputs": [
        {
          "output_type": "execute_result",
          "data": {
            "text/plain": [
              "array([-0.75545531,  0.03848527, -0.01104999])"
            ]
          },
          "metadata": {},
          "execution_count": 14
        }
      ],
      "source": [
        "X[0] # observe que 0 é a linha 1, compare com o X[0, 1] de antes."
      ]
    },
    {
      "cell_type": "code",
      "execution_count": 15,
      "metadata": {
        "id": "_vEaO1y6g9f9",
        "outputId": "b08b8c77-ef27-4b4f-fbf4-03791a5a5014",
        "colab": {
          "base_uri": "https://localhost:8080/"
        }
      },
      "outputs": [
        {
          "output_type": "execute_result",
          "data": {
            "text/plain": [
              "array([ 2.27300375, -1.33284319, -1.25030265])"
            ]
          },
          "metadata": {},
          "execution_count": 15
        }
      ],
      "source": [
        "X[1] # segunda"
      ]
    },
    {
      "cell_type": "code",
      "execution_count": 16,
      "metadata": {
        "id": "QN-aseqVg9f9",
        "outputId": "ba2baac9-73ab-4a13-9069-92d97b59619a",
        "colab": {
          "base_uri": "https://localhost:8080/"
        }
      },
      "outputs": [
        {
          "output_type": "execute_result",
          "data": {
            "text/plain": [
              "array([-0.39917009, -0.62283928, -0.91466798])"
            ]
          },
          "metadata": {},
          "execution_count": 16
        }
      ],
      "source": [
        "X[2] # terceira"
      ]
    },
    {
      "cell_type": "markdown",
      "metadata": {
        "id": "tPUgMBPVg9f9"
      },
      "source": [
        "Observe como todos os tipos retornados são `array`. Array é o nome genérico de Numpy para vetores e matrizes. "
      ]
    },
    {
      "cell_type": "markdown",
      "metadata": {
        "id": "lIne7uicg9f-"
      },
      "source": [
        "`X[:, c]` pega uma coluna"
      ]
    },
    {
      "cell_type": "code",
      "execution_count": 17,
      "metadata": {
        "id": "GXApcAYYg9f-",
        "outputId": "bc575759-90f5-470b-cfa5-da4e94000109",
        "colab": {
          "base_uri": "https://localhost:8080/"
        }
      },
      "outputs": [
        {
          "output_type": "execute_result",
          "data": {
            "text/plain": [
              "array([-0.75545531,  2.27300375, -0.39917009,  0.72024678])"
            ]
          },
          "metadata": {},
          "execution_count": 17
        }
      ],
      "source": [
        "X[:, 0]"
      ]
    },
    {
      "cell_type": "code",
      "execution_count": 18,
      "metadata": {
        "id": "wamvIPwpg9f-",
        "outputId": "fd40c30b-a0cb-452f-b5b9-754a1aa0c070",
        "colab": {
          "base_uri": "https://localhost:8080/"
        }
      },
      "outputs": [
        {
          "output_type": "execute_result",
          "data": {
            "text/plain": [
              "array([ 0.03848527, -1.33284319, -0.62283928,  0.18121634])"
            ]
          },
          "metadata": {},
          "execution_count": 18
        }
      ],
      "source": [
        "X[:, 1]"
      ]
    },
    {
      "cell_type": "markdown",
      "metadata": {
        "id": "elkm7oRJg9f-"
      },
      "source": [
        "`X[um_vetor]` pega as linhas da matriz. `X[:, um_vetor]` pega as colunas"
      ]
    },
    {
      "cell_type": "code",
      "execution_count": 19,
      "metadata": {
        "id": "13gWvO8Dg9f_",
        "outputId": "0d010663-14bc-4b7b-e115-61adae0d838c",
        "colab": {
          "base_uri": "https://localhost:8080/"
        }
      },
      "outputs": [
        {
          "output_type": "execute_result",
          "data": {
            "text/plain": [
              "array([[-0.75545531,  0.03848527, -0.01104999],\n",
              "       [-0.75545531,  0.03848527, -0.01104999],\n",
              "       [ 2.27300375, -1.33284319, -1.25030265]])"
            ]
          },
          "metadata": {},
          "execution_count": 19
        }
      ],
      "source": [
        "X[[0, 0, 1]] # observe que pego a primeira linha, indexada por 0, duas vezes"
      ]
    },
    {
      "cell_type": "markdown",
      "metadata": {
        "id": "_0pHkST1g9f_"
      },
      "source": [
        "Abaixo pego a segunda a primeira coluna"
      ]
    },
    {
      "cell_type": "code",
      "execution_count": 20,
      "metadata": {
        "id": "v27Py_lJg9f_",
        "outputId": "67bed27c-c8cb-4322-ff17-012c053aef77",
        "colab": {
          "base_uri": "https://localhost:8080/"
        }
      },
      "outputs": [
        {
          "output_type": "execute_result",
          "data": {
            "text/plain": [
              "array([[ 0.03848527, -0.75545531],\n",
              "       [-1.33284319,  2.27300375],\n",
              "       [-0.62283928, -0.39917009],\n",
              "       [ 0.18121634,  0.72024678]])"
            ]
          },
          "metadata": {},
          "execution_count": 20
        }
      ],
      "source": [
        "X[:, [1, 0]]"
      ]
    },
    {
      "cell_type": "markdown",
      "metadata": {
        "id": "sqE0r52ng9f_"
      },
      "source": [
        "### Indexação Booleana\n",
        "\n",
        "`X[vetor_booleano]` retorna as linhas (ou colunas quando X[:, vetor_booleano]) onde o vetor é true"
      ]
    },
    {
      "cell_type": "code",
      "execution_count": 21,
      "metadata": {
        "id": "IX6X5Xszg9gA",
        "outputId": "e8f661c1-29f6-4a93-c7d2-d50fde23c13e",
        "colab": {
          "base_uri": "https://localhost:8080/"
        }
      },
      "outputs": [
        {
          "output_type": "execute_result",
          "data": {
            "text/plain": [
              "array([[-0.75545531,  0.03848527, -0.01104999],\n",
              "       [-0.39917009, -0.62283928, -0.91466798]])"
            ]
          },
          "metadata": {},
          "execution_count": 21
        }
      ],
      "source": [
        "X[[True, False, True, False]]"
      ]
    },
    {
      "cell_type": "code",
      "execution_count": 22,
      "metadata": {
        "id": "cdrXJoWrg9gA",
        "outputId": "98427d58-bf1f-4cb7-b8ca-d489cfe4e16a",
        "colab": {
          "base_uri": "https://localhost:8080/"
        }
      },
      "outputs": [
        {
          "output_type": "execute_result",
          "data": {
            "text/plain": [
              "array([[ 0.03848527, -0.01104999],\n",
              "       [-1.33284319, -1.25030265],\n",
              "       [-0.62283928, -0.91466798],\n",
              "       [ 0.18121634,  0.77104348]])"
            ]
          },
          "metadata": {},
          "execution_count": 22
        }
      ],
      "source": [
        "X[:, [False, True, True]]"
      ]
    },
    {
      "cell_type": "markdown",
      "metadata": {
        "id": "ozO-bNmQg9gA"
      },
      "source": [
        "### Reshape, Flatten e Ravel\n",
        "\n",
        "Todo vetor ou matriz pode ser redimensionado. Observe como uma matriz abaixo de 9x8=72 elementos. Podemos redimensionar os mesmos para outros arrays de tamanho 72."
      ]
    },
    {
      "cell_type": "code",
      "execution_count": 23,
      "metadata": {
        "id": "frHaY3eRg9gA",
        "colab": {
          "base_uri": "https://localhost:8080/"
        },
        "outputId": "1b1ba404-6009-4087-f733-e0b3fcfab3a8"
      },
      "outputs": [
        {
          "output_type": "stream",
          "name": "stdout",
          "text": [
            "[[ 0.43458212  0.17209545  0.16444873  0.45697477  1.34497846  0.75838993\n",
            "  -0.71114976  0.30458457]\n",
            " [ 0.16095312 -0.53628431  0.18548839 -0.86876878 -0.82572792 -0.65814571\n",
            "   1.64933522  0.32642978]\n",
            " [-1.39264682 -0.52405434 -0.42981261 -0.54439125  1.79946089  0.869354\n",
            "  -0.21903698 -0.73854424]\n",
            " [ 1.50166355  1.38613151 -0.61773212 -0.14011238  0.5242003   0.11416599\n",
            "   1.7509119  -0.24917418]\n",
            " [-0.21689036 -2.01610736  1.07416559 -0.35787453  0.30299465  0.76596909\n",
            "   1.15055848 -0.41557995]\n",
            " [ 0.2442849   0.15890605 -1.66863694 -0.15812366 -0.26092921  1.43662524\n",
            "   1.51801827  1.86684171]\n",
            " [ 0.37387772  0.86269212  1.75139625  1.25634212 -0.55500766 -0.89654933\n",
            "  -1.20485146  0.69037414]\n",
            " [-1.40786678  0.03637067  0.86321398  1.43021606  0.48546362  0.40761205\n",
            "  -0.79634999 -0.39609681]\n",
            " [-0.26530721  0.88009927  0.05137984 -0.86407869  0.65574699 -0.55546616\n",
            "   2.15231233  1.44061844]]\n"
          ]
        }
      ],
      "source": [
        "X = np.random.randn(9, 8)\n",
        "print(X)"
      ]
    },
    {
      "cell_type": "markdown",
      "metadata": {
        "id": "lJsd2GQTg9gB"
      },
      "source": [
        "Criando uma matriz de 18x4."
      ]
    },
    {
      "cell_type": "code",
      "execution_count": 24,
      "metadata": {
        "id": "JoQBZvfAg9gB",
        "colab": {
          "base_uri": "https://localhost:8080/"
        },
        "outputId": "b3fa023b-0465-4984-a571-aa7ab5096750"
      },
      "outputs": [
        {
          "output_type": "execute_result",
          "data": {
            "text/plain": [
              "array([[ 0.43458212,  0.17209545,  0.16444873,  0.45697477],\n",
              "       [ 1.34497846,  0.75838993, -0.71114976,  0.30458457],\n",
              "       [ 0.16095312, -0.53628431,  0.18548839, -0.86876878],\n",
              "       [-0.82572792, -0.65814571,  1.64933522,  0.32642978],\n",
              "       [-1.39264682, -0.52405434, -0.42981261, -0.54439125],\n",
              "       [ 1.79946089,  0.869354  , -0.21903698, -0.73854424],\n",
              "       [ 1.50166355,  1.38613151, -0.61773212, -0.14011238],\n",
              "       [ 0.5242003 ,  0.11416599,  1.7509119 , -0.24917418],\n",
              "       [-0.21689036, -2.01610736,  1.07416559, -0.35787453],\n",
              "       [ 0.30299465,  0.76596909,  1.15055848, -0.41557995],\n",
              "       [ 0.2442849 ,  0.15890605, -1.66863694, -0.15812366],\n",
              "       [-0.26092921,  1.43662524,  1.51801827,  1.86684171],\n",
              "       [ 0.37387772,  0.86269212,  1.75139625,  1.25634212],\n",
              "       [-0.55500766, -0.89654933, -1.20485146,  0.69037414],\n",
              "       [-1.40786678,  0.03637067,  0.86321398,  1.43021606],\n",
              "       [ 0.48546362,  0.40761205, -0.79634999, -0.39609681],\n",
              "       [-0.26530721,  0.88009927,  0.05137984, -0.86407869],\n",
              "       [ 0.65574699, -0.55546616,  2.15231233,  1.44061844]])"
            ]
          },
          "metadata": {},
          "execution_count": 24
        }
      ],
      "source": [
        "X.reshape((18, 4))"
      ]
    },
    {
      "cell_type": "markdown",
      "metadata": {
        "id": "vEX6XC7mg9gB"
      },
      "source": [
        "Ou um vetor de 72"
      ]
    },
    {
      "cell_type": "code",
      "execution_count": 25,
      "metadata": {
        "id": "OFVauZ5Jg9gB",
        "colab": {
          "base_uri": "https://localhost:8080/"
        },
        "outputId": "918ad284-40fe-4b5b-8465-00bce0e2199a"
      },
      "outputs": [
        {
          "output_type": "execute_result",
          "data": {
            "text/plain": [
              "array([ 0.43458212,  0.17209545,  0.16444873,  0.45697477,  1.34497846,\n",
              "        0.75838993, -0.71114976,  0.30458457,  0.16095312, -0.53628431,\n",
              "        0.18548839, -0.86876878, -0.82572792, -0.65814571,  1.64933522,\n",
              "        0.32642978, -1.39264682, -0.52405434, -0.42981261, -0.54439125,\n",
              "        1.79946089,  0.869354  , -0.21903698, -0.73854424,  1.50166355,\n",
              "        1.38613151, -0.61773212, -0.14011238,  0.5242003 ,  0.11416599,\n",
              "        1.7509119 , -0.24917418, -0.21689036, -2.01610736,  1.07416559,\n",
              "       -0.35787453,  0.30299465,  0.76596909,  1.15055848, -0.41557995,\n",
              "        0.2442849 ,  0.15890605, -1.66863694, -0.15812366, -0.26092921,\n",
              "        1.43662524,  1.51801827,  1.86684171,  0.37387772,  0.86269212,\n",
              "        1.75139625,  1.25634212, -0.55500766, -0.89654933, -1.20485146,\n",
              "        0.69037414, -1.40786678,  0.03637067,  0.86321398,  1.43021606,\n",
              "        0.48546362,  0.40761205, -0.79634999, -0.39609681, -0.26530721,\n",
              "        0.88009927,  0.05137984, -0.86407869,  0.65574699, -0.55546616,\n",
              "        2.15231233,  1.44061844])"
            ]
          },
          "metadata": {},
          "execution_count": 25
        }
      ],
      "source": [
        "X.reshape(72)"
      ]
    },
    {
      "cell_type": "markdown",
      "metadata": {
        "id": "BLL4-CCEg9gB"
      },
      "source": [
        "A chamada flatten e ravel faz a mesma coisa, criam uma visão de uma dimensão da matriz."
      ]
    },
    {
      "cell_type": "code",
      "execution_count": 26,
      "metadata": {
        "id": "peHb5Z_pg9gB",
        "colab": {
          "base_uri": "https://localhost:8080/"
        },
        "outputId": "89ba90df-e07d-454e-8e55-02e3e32765cb"
      },
      "outputs": [
        {
          "output_type": "execute_result",
          "data": {
            "text/plain": [
              "array([ 0.43458212,  0.17209545,  0.16444873,  0.45697477,  1.34497846,\n",
              "        0.75838993, -0.71114976,  0.30458457,  0.16095312, -0.53628431,\n",
              "        0.18548839, -0.86876878, -0.82572792, -0.65814571,  1.64933522,\n",
              "        0.32642978, -1.39264682, -0.52405434, -0.42981261, -0.54439125,\n",
              "        1.79946089,  0.869354  , -0.21903698, -0.73854424,  1.50166355,\n",
              "        1.38613151, -0.61773212, -0.14011238,  0.5242003 ,  0.11416599,\n",
              "        1.7509119 , -0.24917418, -0.21689036, -2.01610736,  1.07416559,\n",
              "       -0.35787453,  0.30299465,  0.76596909,  1.15055848, -0.41557995,\n",
              "        0.2442849 ,  0.15890605, -1.66863694, -0.15812366, -0.26092921,\n",
              "        1.43662524,  1.51801827,  1.86684171,  0.37387772,  0.86269212,\n",
              "        1.75139625,  1.25634212, -0.55500766, -0.89654933, -1.20485146,\n",
              "        0.69037414, -1.40786678,  0.03637067,  0.86321398,  1.43021606,\n",
              "        0.48546362,  0.40761205, -0.79634999, -0.39609681, -0.26530721,\n",
              "        0.88009927,  0.05137984, -0.86407869,  0.65574699, -0.55546616,\n",
              "        2.15231233,  1.44061844])"
            ]
          },
          "metadata": {},
          "execution_count": 26
        }
      ],
      "source": [
        "X.flatten()"
      ]
    },
    {
      "cell_type": "code",
      "execution_count": 27,
      "metadata": {
        "id": "4smM3BzBg9gC",
        "colab": {
          "base_uri": "https://localhost:8080/"
        },
        "outputId": "efa04153-a55b-44c2-e4ac-f48b39495d82"
      },
      "outputs": [
        {
          "output_type": "execute_result",
          "data": {
            "text/plain": [
              "array([ 0.43458212,  0.17209545,  0.16444873,  0.45697477,  1.34497846,\n",
              "        0.75838993, -0.71114976,  0.30458457,  0.16095312, -0.53628431,\n",
              "        0.18548839, -0.86876878, -0.82572792, -0.65814571,  1.64933522,\n",
              "        0.32642978, -1.39264682, -0.52405434, -0.42981261, -0.54439125,\n",
              "        1.79946089,  0.869354  , -0.21903698, -0.73854424,  1.50166355,\n",
              "        1.38613151, -0.61773212, -0.14011238,  0.5242003 ,  0.11416599,\n",
              "        1.7509119 , -0.24917418, -0.21689036, -2.01610736,  1.07416559,\n",
              "       -0.35787453,  0.30299465,  0.76596909,  1.15055848, -0.41557995,\n",
              "        0.2442849 ,  0.15890605, -1.66863694, -0.15812366, -0.26092921,\n",
              "        1.43662524,  1.51801827,  1.86684171,  0.37387772,  0.86269212,\n",
              "        1.75139625,  1.25634212, -0.55500766, -0.89654933, -1.20485146,\n",
              "        0.69037414, -1.40786678,  0.03637067,  0.86321398,  1.43021606,\n",
              "        0.48546362,  0.40761205, -0.79634999, -0.39609681, -0.26530721,\n",
              "        0.88009927,  0.05137984, -0.86407869,  0.65574699, -0.55546616,\n",
              "        2.15231233,  1.44061844])"
            ]
          },
          "metadata": {},
          "execution_count": 27
        }
      ],
      "source": [
        "X.ravel()"
      ]
    },
    {
      "cell_type": "markdown",
      "metadata": {
        "id": "stmWEiBWg9gC"
      },
      "source": [
        "As funções incorporadas ao NumPy podem ser facilmente chamadas em matrizes. A maioria das funções são aplicadas a um elemento de array (como a multiplicação escalar). Por exemplo, se chamarmos `log()` em um array, o logaritmo será obtido de cada elemento. "
      ]
    },
    {
      "cell_type": "code",
      "execution_count": 28,
      "metadata": {
        "id": "a0Yysx3qg9gC",
        "colab": {
          "base_uri": "https://localhost:8080/"
        },
        "outputId": "06b3d5e0-9e11-43d7-e9ff-68f0f0994ebf"
      },
      "outputs": [
        {
          "output_type": "execute_result",
          "data": {
            "text/plain": [
              "array([1.25276297, 1.60943791, 0.69314718, 2.07944154, 1.43508453])"
            ]
          },
          "metadata": {},
          "execution_count": 28
        }
      ],
      "source": [
        "np.log(data)"
      ]
    },
    {
      "cell_type": "markdown",
      "metadata": {
        "id": "DWnTr-_hg9gC"
      },
      "source": [
        "Mean tira a média"
      ]
    },
    {
      "cell_type": "code",
      "execution_count": 29,
      "metadata": {
        "id": "nRECjlbog9gD",
        "colab": {
          "base_uri": "https://localhost:8080/"
        },
        "outputId": "2a726dbd-23e9-404e-9942-1138d4683703"
      },
      "outputs": [
        {
          "output_type": "execute_result",
          "data": {
            "text/plain": [
              "4.54"
            ]
          },
          "metadata": {},
          "execution_count": 29
        }
      ],
      "source": [
        "np.mean(data)"
      ]
    },
    {
      "cell_type": "markdown",
      "metadata": {
        "id": "b0bPLQwgg9gD"
      },
      "source": [
        "Algumas funções podem ser chamadas direto no vetor, nem todas serão assim. O importante é ler a [documentação](http://numpy.org) e aprender. Com um pouco de prática você vai se acostumando."
      ]
    },
    {
      "cell_type": "code",
      "execution_count": 30,
      "metadata": {
        "id": "RSZHE8Pkg9gD",
        "colab": {
          "base_uri": "https://localhost:8080/"
        },
        "outputId": "09be3432-d662-40a5-ffe0-b5d3012c79d8"
      },
      "outputs": [
        {
          "output_type": "execute_result",
          "data": {
            "text/plain": [
              "4.54"
            ]
          },
          "metadata": {},
          "execution_count": 30
        }
      ],
      "source": [
        "data.mean()"
      ]
    },
    {
      "cell_type": "markdown",
      "metadata": {
        "id": "qiGiTiQ3g9gD"
      },
      "source": [
        "Abaixo temos a mediana,"
      ]
    },
    {
      "cell_type": "code",
      "execution_count": 31,
      "metadata": {
        "id": "vCIU58E5g9gD",
        "colab": {
          "base_uri": "https://localhost:8080/"
        },
        "outputId": "4eb1ac9a-3003-4a68-967d-acd1a77e603a"
      },
      "outputs": [
        {
          "output_type": "execute_result",
          "data": {
            "text/plain": [
              "4.2"
            ]
          },
          "metadata": {},
          "execution_count": 31
        }
      ],
      "source": [
        "np.median(data) # por exemplo, não existe data.median(). Faz sentido? Não. Mas é assim."
      ]
    },
    {
      "cell_type": "markdown",
      "metadata": {
        "id": "lIHiXqf0g9gE"
      },
      "source": [
        "Em matrizes as funções operam em todos os elemntos."
      ]
    },
    {
      "cell_type": "code",
      "execution_count": 32,
      "metadata": {
        "id": "FC4QtOO4g9gE",
        "colab": {
          "base_uri": "https://localhost:8080/"
        },
        "outputId": "c21bcf41-4960-4d61-b17b-815517d4228c"
      },
      "outputs": [
        {
          "output_type": "execute_result",
          "data": {
            "text/plain": [
              "0.1682720895279318"
            ]
          },
          "metadata": {},
          "execution_count": 32
        }
      ],
      "source": [
        "np.median(X)"
      ]
    },
    {
      "cell_type": "code",
      "execution_count": 33,
      "metadata": {
        "id": "mABgoGLng9gE",
        "colab": {
          "base_uri": "https://localhost:8080/"
        },
        "outputId": "5dcefe5e-1c23-447e-ae75-0f8623262a36"
      },
      "outputs": [
        {
          "output_type": "execute_result",
          "data": {
            "text/plain": [
              "0.21206848273740966"
            ]
          },
          "metadata": {},
          "execution_count": 33
        }
      ],
      "source": [
        "X.mean()"
      ]
    },
    {
      "cell_type": "code",
      "execution_count": 34,
      "metadata": {
        "id": "bWkAPSJYg9gE",
        "colab": {
          "base_uri": "https://localhost:8080/"
        },
        "outputId": "878fb88d-17d8-44f0-d2d9-4a2a96f88630"
      },
      "outputs": [
        {
          "output_type": "execute_result",
          "data": {
            "text/plain": [
              "array([[2.34512549, 2.31964823, 2.31889621, 2.3472692 , 2.42877522,\n",
              "        2.37568591, 2.22881478, 2.3325889 ],\n",
              "       [2.31855225, 2.24746509, 2.320964  , 2.21170054, 2.21640305,\n",
              "        2.23450476, 2.45524912, 2.33470661],\n",
              "       [2.15261686, 2.24875655, 2.25865279, 2.24660808, 2.46805384,\n",
              "        2.38594727, 2.28043795, 2.22586125],\n",
              "       [2.44249168, 2.43239608, 2.23882151, 2.28847477, 2.3536774 ,\n",
              "        2.31393701, 2.46393085, 2.27735198],\n",
              "       [2.28065739, 2.07742609, 2.40461497, 2.26614157, 2.3324346 ,\n",
              "        2.37639015, 2.41148958, 2.26013887],\n",
              "       [2.32671998, 2.31835076, 2.12002707, 2.28664638, 2.27614571,\n",
              "        2.43682095, 2.44391262, 2.4737481 ],\n",
              "       [2.33929089, 2.38533418, 2.46397206, 2.42093171, 2.24548469,\n",
              "        2.20865354, 2.17420027, 2.36934372],\n",
              "       [2.15084704, 2.30621556, 2.38538222, 2.43626038, 2.34998988,\n",
              "        2.34253747, 2.21960015, 2.2621696 ],\n",
              "       [2.27569608, 2.38693537, 2.30770992, 2.21221404, 2.36609937,\n",
              "        2.24543614, 2.49751947, 2.43717004]])"
            ]
          },
          "metadata": {},
          "execution_count": 34
        }
      ],
      "source": [
        "np.log(X + 10)"
      ]
    },
    {
      "cell_type": "markdown",
      "metadata": {
        "id": "O3-B4IUQg9gE"
      },
      "source": [
        "Porém, caso você queira a media de linhas ou colunas use `axis`. Antes, vamos ver o tamanho do vetor."
      ]
    },
    {
      "cell_type": "code",
      "execution_count": 35,
      "metadata": {
        "id": "6zXCaYKzg9gF",
        "colab": {
          "base_uri": "https://localhost:8080/"
        },
        "outputId": "5c4059b8-4e21-4989-d7f5-38a178824d2e"
      },
      "outputs": [
        {
          "output_type": "execute_result",
          "data": {
            "text/plain": [
              "(9, 8)"
            ]
          },
          "metadata": {},
          "execution_count": 35
        }
      ],
      "source": [
        "X.shape"
      ]
    },
    {
      "cell_type": "code",
      "execution_count": 36,
      "metadata": {
        "id": "Tw5u4GlYg9gF",
        "colab": {
          "base_uri": "https://localhost:8080/"
        },
        "outputId": "c1583619-6f94-4b89-d2f4-36357b321315"
      },
      "outputs": [
        {
          "output_type": "execute_result",
          "data": {
            "text/plain": [
              "array([-0.06303886,  0.04664989,  0.15265679,  0.02335374,  0.38568668,\n",
              "        0.24910612,  0.58774978,  0.31438372])"
            ]
          },
          "metadata": {},
          "execution_count": 36
        }
      ],
      "source": [
        "np.mean(X, axis=0) # média das colunas. como temos 8 colunas, temos 8 elementos."
      ]
    },
    {
      "cell_type": "code",
      "execution_count": 37,
      "metadata": {
        "id": "lKMMUpk_g9gF",
        "colab": {
          "base_uri": "https://localhost:8080/"
        },
        "outputId": "815e8e65-db0f-4076-8b5e-095a42cb82fa"
      },
      "outputs": [
        {
          "output_type": "execute_result",
          "data": {
            "text/plain": [
              "(8,)"
            ]
          },
          "metadata": {},
          "execution_count": 37
        }
      ],
      "source": [
        "np.mean(X, axis=0).shape"
      ]
    },
    {
      "cell_type": "code",
      "execution_count": 38,
      "metadata": {
        "id": "HLsVfTJyg9gF",
        "colab": {
          "base_uri": "https://localhost:8080/"
        },
        "outputId": "ced9f47b-c093-47e1-ae2a-ec2ed82deb4a"
      },
      "outputs": [
        {
          "output_type": "execute_result",
          "data": {
            "text/plain": [
              "array([ 0.36561303, -0.07084002, -0.14745892,  0.53375682,  0.03590445,\n",
              "        0.3921233 ,  0.28478424,  0.07782035,  0.4369131 ])"
            ]
          },
          "metadata": {},
          "execution_count": 38
        }
      ],
      "source": [
        "np.mean(X, axis=1) # média das linhas"
      ]
    },
    {
      "cell_type": "code",
      "execution_count": 39,
      "metadata": {
        "id": "vgvLLSpeg9gF",
        "colab": {
          "base_uri": "https://localhost:8080/"
        },
        "outputId": "33f5ba52-3857-4ccc-ee29-1c1bbed3da37"
      },
      "outputs": [
        {
          "output_type": "execute_result",
          "data": {
            "text/plain": [
              "(9,)"
            ]
          },
          "metadata": {},
          "execution_count": 39
        }
      ],
      "source": [
        "np.mean(X, axis=1).shape"
      ]
    },
    {
      "cell_type": "markdown",
      "metadata": {
        "id": "mR3Irgv7g9gG"
      },
      "source": [
        "Lembre-se que eixo 0 é coluna. Eixo 1 é linas."
      ]
    },
    {
      "cell_type": "markdown",
      "metadata": {
        "id": "diAN1UCMg9gG"
      },
      "source": [
        "### Multiplicação de Matrizes"
      ]
    },
    {
      "cell_type": "markdown",
      "metadata": {
        "id": "OWfQcpJ-g9gG"
      },
      "source": [
        "Para transpor uma matriz fazemos uso de .T"
      ]
    },
    {
      "cell_type": "code",
      "execution_count": 40,
      "metadata": {
        "id": "Po1WZoQsg9gG",
        "outputId": "c9ce023f-0636-4ef1-bef7-56a9dcd0c230",
        "colab": {
          "base_uri": "https://localhost:8080/"
        }
      },
      "outputs": [
        {
          "output_type": "stream",
          "name": "stdout",
          "text": [
            "[[ 0.43458212  0.17209545  0.16444873  0.45697477  1.34497846  0.75838993\n",
            "  -0.71114976  0.30458457]\n",
            " [ 0.16095312 -0.53628431  0.18548839 -0.86876878 -0.82572792 -0.65814571\n",
            "   1.64933522  0.32642978]\n",
            " [-1.39264682 -0.52405434 -0.42981261 -0.54439125  1.79946089  0.869354\n",
            "  -0.21903698 -0.73854424]\n",
            " [ 1.50166355  1.38613151 -0.61773212 -0.14011238  0.5242003   0.11416599\n",
            "   1.7509119  -0.24917418]\n",
            " [-0.21689036 -2.01610736  1.07416559 -0.35787453  0.30299465  0.76596909\n",
            "   1.15055848 -0.41557995]\n",
            " [ 0.2442849   0.15890605 -1.66863694 -0.15812366 -0.26092921  1.43662524\n",
            "   1.51801827  1.86684171]\n",
            " [ 0.37387772  0.86269212  1.75139625  1.25634212 -0.55500766 -0.89654933\n",
            "  -1.20485146  0.69037414]\n",
            " [-1.40786678  0.03637067  0.86321398  1.43021606  0.48546362  0.40761205\n",
            "  -0.79634999 -0.39609681]\n",
            " [-0.26530721  0.88009927  0.05137984 -0.86407869  0.65574699 -0.55546616\n",
            "   2.15231233  1.44061844]]\n"
          ]
        }
      ],
      "source": [
        "X.shape"
      ]
    },
    {
      "cell_type": "code",
      "execution_count": 41,
      "metadata": {
        "id": "e4Zfa_R5g9gG",
        "outputId": "63407838-f752-4e1f-8d04-2cac7180e9ef",
        "colab": {
          "base_uri": "https://localhost:8080/"
        }
      },
      "outputs": [
        {
          "output_type": "execute_result",
          "data": {
            "text/plain": [
              "(8, 9)"
            ]
          },
          "metadata": {},
          "execution_count": 41
        }
      ],
      "source": [
        "X.T.shape"
      ]
    },
    {
      "cell_type": "code",
      "execution_count": 42,
      "metadata": {
        "id": "NK4w8ebcg9gG",
        "outputId": "46f28671-1f3c-4312-f7f9-40ed7be38afc",
        "colab": {
          "base_uri": "https://localhost:8080/"
        }
      },
      "outputs": [
        {
          "output_type": "execute_result",
          "data": {
            "text/plain": [
              "array([[ 0.43458212,  0.16095312, -1.39264682,  1.50166355, -0.21689036,\n",
              "         0.2442849 ,  0.37387772, -1.40786678, -0.26530721],\n",
              "       [ 0.17209545, -0.53628431, -0.52405434,  1.38613151, -2.01610736,\n",
              "         0.15890605,  0.86269212,  0.03637067,  0.88009927],\n",
              "       [ 0.16444873,  0.18548839, -0.42981261, -0.61773212,  1.07416559,\n",
              "        -1.66863694,  1.75139625,  0.86321398,  0.05137984],\n",
              "       [ 0.45697477, -0.86876878, -0.54439125, -0.14011238, -0.35787453,\n",
              "        -0.15812366,  1.25634212,  1.43021606, -0.86407869],\n",
              "       [ 1.34497846, -0.82572792,  1.79946089,  0.5242003 ,  0.30299465,\n",
              "        -0.26092921, -0.55500766,  0.48546362,  0.65574699],\n",
              "       [ 0.75838993, -0.65814571,  0.869354  ,  0.11416599,  0.76596909,\n",
              "         1.43662524, -0.89654933,  0.40761205, -0.55546616],\n",
              "       [-0.71114976,  1.64933522, -0.21903698,  1.7509119 ,  1.15055848,\n",
              "         1.51801827, -1.20485146, -0.79634999,  2.15231233],\n",
              "       [ 0.30458457,  0.32642978, -0.73854424, -0.24917418, -0.41557995,\n",
              "         1.86684171,  0.69037414, -0.39609681,  1.44061844]])"
            ]
          },
          "metadata": {},
          "execution_count": 42
        }
      ],
      "source": [
        "X.T"
      ]
    },
    {
      "cell_type": "markdown",
      "metadata": {
        "id": "hgrj5CKDg9gH"
      },
      "source": [
        "Para multiplicar matrizes, do ponto de visto de multiplicação matricial como definido na álgebra linear, fazemos uso de `@`."
      ]
    },
    {
      "cell_type": "code",
      "execution_count": 43,
      "metadata": {
        "id": "0fG5LeSzg9gH",
        "outputId": "361d7016-e292-4d8e-9b6e-82fce68226c8",
        "colab": {
          "base_uri": "https://localhost:8080/"
        }
      },
      "outputs": [
        {
          "output_type": "execute_result",
          "data": {
            "text/plain": [
              "array([[ 3.43697586, -3.07206304,  1.99550238,  0.19609521, -0.38448814,\n",
              "         0.01449589,  0.81377732,  1.59769872, -0.98137014],\n",
              "       [-3.07206304,  5.04451735, -2.2102588 ,  1.80399809,  2.56414157,\n",
              "         2.16502124, -1.88257845, -3.44039133,  4.08978387],\n",
              "       [ 1.99550238, -2.2102588 ,  7.28245948, -1.6328699 ,  2.35776997,\n",
              "        -0.55203901, -4.43358916,  2.48688071, -0.48172954],\n",
              "       [ 0.19609521,  1.80399809, -1.6328699 ,  7.9931785 , -1.3693344 ,\n",
              "         3.8600062 , -2.17558231, -3.79197963,  4.60073207],\n",
              "       [-0.38448814,  2.56414157,  2.35776997, -1.3693344 ,  7.56864215,\n",
              "        -0.11706148, -2.9167448 ,  0.35509618,  0.29847715],\n",
              "       [ 0.01449589,  2.16502124, -0.55203901,  3.8600062 , -0.11706148,\n",
              "        10.81573219, -4.5760372 , -3.49409258,  5.11349531],\n",
              "       [ 0.81377732, -1.88257845, -4.43358916, -2.17558231, -2.9167448 ,\n",
              "        -4.5760372 ,  8.56992431,  2.86482518, -1.80012245],\n",
              "       [ 1.59769872, -3.44039133,  2.48688071, -3.79197963,  0.35509618,\n",
              "        -3.49409258,  2.86482518,  5.96695654, -2.97863208],\n",
              "       [-0.98137014,  4.08978387, -0.48172954,  4.60073207,  0.29847715,\n",
              "         5.11349531, -1.80012245, -2.97863208,  9.04061111]])"
            ]
          },
          "metadata": {},
          "execution_count": 43
        }
      ],
      "source": [
        "X @ X.T"
      ]
    },
    {
      "cell_type": "markdown",
      "metadata": {
        "id": "qBZEsnSPg9gH"
      },
      "source": [
        "O uso de `*` realiza uma operação ponto a ponto"
      ]
    },
    {
      "cell_type": "code",
      "execution_count": 44,
      "metadata": {
        "id": "nhMOj5mxg9gH",
        "outputId": "ecfb52f0-f817-493f-e6f7-828adf640f1a",
        "colab": {
          "base_uri": "https://localhost:8080/"
        }
      },
      "outputs": [
        {
          "output_type": "execute_result",
          "data": {
            "text/plain": [
              "array([[1.88861615e-01, 2.96168423e-02, 2.70433860e-02, 2.08825942e-01,\n",
              "        1.80896704e+00, 5.75155284e-01, 5.05733987e-01, 9.27717587e-02],\n",
              "       [2.59059072e-02, 2.87600857e-01, 3.44059434e-02, 7.54759193e-01,\n",
              "        6.81826598e-01, 4.33155774e-01, 2.72030668e+00, 1.06556401e-01],\n",
              "       [1.93946517e+00, 2.74632951e-01, 1.84738877e-01, 2.96361830e-01,\n",
              "        3.23805948e+00, 7.55776373e-01, 4.79771966e-02, 5.45447597e-01],\n",
              "       [2.25499341e+00, 1.92136057e+00, 3.81592973e-01, 1.96314776e-02,\n",
              "        2.74785952e-01, 1.30338728e-02, 3.06569247e+00, 6.20877732e-02],\n",
              "       [4.70414267e-02, 4.06468890e+00, 1.15383172e+00, 1.28074177e-01,\n",
              "        9.18057576e-02, 5.86708649e-01, 1.32378482e+00, 1.72706696e-01],\n",
              "       [5.96751140e-02, 2.52511335e-02, 2.78434925e+00, 2.50030921e-02,\n",
              "        6.80840515e-02, 2.06389209e+00, 2.30437947e+00, 3.48509799e+00],\n",
              "       [1.39784552e-01, 7.44237690e-01, 3.06738884e+00, 1.57839552e+00,\n",
              "        3.08033502e-01, 8.03800703e-01, 1.45166705e+00, 4.76616458e-01],\n",
              "       [1.98208887e+00, 1.32282535e-03, 7.45138371e-01, 2.04551798e+00,\n",
              "        2.35674928e-01, 1.66147581e-01, 6.34173309e-01, 1.56892682e-01],\n",
              "       [7.03879154e-02, 7.74574724e-01, 2.63988827e-03, 7.46631974e-01,\n",
              "        4.30004109e-01, 3.08542660e-01, 4.63244836e+00, 2.07538148e+00]])"
            ]
          },
          "metadata": {},
          "execution_count": 44
        }
      ],
      "source": [
        "X * X"
      ]
    },
    {
      "cell_type": "markdown",
      "metadata": {
        "id": "QLZF0Pyug9gH"
      },
      "source": [
        "Observe a diferença de tamanhos"
      ]
    },
    {
      "cell_type": "code",
      "execution_count": 45,
      "metadata": {
        "id": "uuttFf2Ag9gI",
        "outputId": "00986be8-7562-46b2-907a-1a08b79daf78",
        "colab": {
          "base_uri": "https://localhost:8080/"
        }
      },
      "outputs": [
        {
          "output_type": "execute_result",
          "data": {
            "text/plain": [
              "(9, 8)"
            ]
          },
          "metadata": {},
          "execution_count": 45
        }
      ],
      "source": [
        "(X * X).shape"
      ]
    },
    {
      "cell_type": "code",
      "execution_count": 46,
      "metadata": {
        "id": "OKf9wGHwg9gI",
        "outputId": "1f91b348-3cb0-4e3e-f0fd-dbdb2d3c76c3",
        "colab": {
          "base_uri": "https://localhost:8080/"
        }
      },
      "outputs": [
        {
          "output_type": "execute_result",
          "data": {
            "text/plain": [
              "(9, 9)"
            ]
          },
          "metadata": {},
          "execution_count": 46
        }
      ],
      "source": [
        "(X @ X.T).shape"
      ]
    },
    {
      "cell_type": "markdown",
      "metadata": {
        "id": "KCcBoCQrg9gI"
      },
      "source": [
        "**Pense:** Para o nosso `X` de tamanho `(9, 8)`, qual o motivo de `X * X.T` não funcionar? Qual o motivo de `X @ X` não funcionar?"
      ]
    },
    {
      "cell_type": "markdown",
      "source": [
        "X * X.T não teria elementos suficientes para que todos elementos fossem multiplicados, enquanto X @ X viola o pressuposto que para uma multiplicação matricial algébrica A @ B, o número de colunas de A tem que ser igual o número de linhas de B"
      ],
      "metadata": {
        "id": "BPt6dxobLbdv"
      }
    },
    {
      "cell_type": "markdown",
      "metadata": {
        "id": "hTgr55vEg9gI"
      },
      "source": [
        "## Correção Automática\n",
        "\n",
        "Nossa correção automática depende das funções abaixo. Tais funções comparam valores que serão computados pelo seu código com uma saída esperada. Normalmente, vocês não fazer uso de tais funções em notebooks como este. Porém, elas são chave em ambientes de testes automáticos (fora do nosso escopo).\n",
        "\n",
        "Observe como algumas funções comparam valores e outras comparam vetores. Além do mais, temos funções para comparar dentro de algumas casas decimais."
      ]
    },
    {
      "cell_type": "code",
      "execution_count": 47,
      "metadata": {
        "id": "Y-xLmNYEg9gJ"
      },
      "outputs": [],
      "source": [
        "from numpy.testing import assert_almost_equal\n",
        "from numpy.testing import assert_equal\n",
        "\n",
        "from numpy.testing import assert_array_almost_equal\n",
        "from numpy.testing import assert_array_equal"
      ]
    },
    {
      "cell_type": "code",
      "execution_count": 48,
      "metadata": {
        "id": "YxZiqGWkg9gJ"
      },
      "outputs": [],
      "source": [
        "# caso você mude um dos valores vamos receber um erro!\n",
        "assert_array_equal(2, 2)\n",
        "\n",
        "# caso você mude um dos valores vamos receber um erro!\n",
        "assert_array_equal([1, 2], [1, 2])\n",
        "\n",
        "# caso você mude um dos valores vamos receber um erro!\n",
        "assert_almost_equal(3.1415, 3.14, 1)"
      ]
    },
    {
      "cell_type": "markdown",
      "metadata": {
        "id": "5ujZZx27g9gJ"
      },
      "source": [
        "Caso você mude um dos valores abaixo vamos receber um erro! Como o abaixo.\n",
        "\n",
        "```\n",
        "-----------------------------------------------------------------------\n",
        "AssertionError                        Traceback (most recent call last)\n",
        "<ipython-input-10-396672d880f2> in <module>\n",
        "----> 1 assert_equal(2, 3) # caso você mude um dos valores vamos receber um erro!\n",
        "\n",
        "~/miniconda3/lib/python3.7/site-packages/numpy/testing/_private/utils.py in assert_equal(actual, desired, err_msg, verbose)\n",
        "    413         # Explicitly use __eq__ for comparison, gh-2552\n",
        "    414         if not (desired == actual):\n",
        "--> 415             raise AssertionError(msg)\n",
        "    416 \n",
        "    417     except (DeprecationWarning, FutureWarning) as e:\n",
        "\n",
        "AssertionError: \n",
        "Items are not equal:\n",
        " ACTUAL: 2\n",
        " DESIRED: 3\n",
        " ```"
      ]
    },
    {
      "cell_type": "markdown",
      "metadata": {
        "id": "LTPZKLnPg9gJ"
      },
      "source": [
        "É essencial que todo seu código execute sem erros! Portanto, antes de submeter clique em `Kernel` no menu acima. Depois clique em `Restart & Execute All.`\n",
        "\n",
        "**Garanta que o notebook executa até o fim!** Isto é, sem erros como o acima."
      ]
    },
    {
      "cell_type": "markdown",
      "metadata": {
        "id": "uSVxhyF0g9gK"
      },
      "source": [
        "## Funções em Python"
      ]
    },
    {
      "cell_type": "markdown",
      "metadata": {
        "id": "bcMx6Chkg9gK"
      },
      "source": [
        "Para criar uma função em Python fazemos uso da palavra-chave: \n",
        "```python\n",
        "def\n",
        "```\n",
        "\n",
        "Todos nossos exercícios farão uso de funções. **Mantenha a assinatura das funções exatamente como requisitado, a correção automática depende disso.** Abaixo, temos um exempo de uma função que imprime algo na tela!"
      ]
    },
    {
      "cell_type": "code",
      "execution_count": 49,
      "metadata": {
        "id": "QSIYTwcVg9gK"
      },
      "outputs": [],
      "source": [
        "def print_something(txt):\n",
        "    print(f'Você passou o argumento: {txt}')"
      ]
    },
    {
      "cell_type": "code",
      "execution_count": 50,
      "metadata": {
        "id": "3HdO6nIDg9gK",
        "outputId": "b916b4f6-be36-463e-96f5-ee2bca7e02ad",
        "colab": {
          "base_uri": "https://localhost:8080/"
        }
      },
      "outputs": [
        {
          "output_type": "stream",
          "name": "stdout",
          "text": [
            "Você passou o argumento: DCC 212\n"
          ]
        }
      ],
      "source": [
        "print_something('DCC 212')"
      ]
    },
    {
      "cell_type": "markdown",
      "metadata": {
        "id": "81PLXR1Qg9gL"
      },
      "source": [
        "Podemos também dizer o tipo do argumento, porém faremos pouco uso disto em ICD."
      ]
    },
    {
      "cell_type": "code",
      "execution_count": 51,
      "metadata": {
        "id": "BbPxSloZg9gL"
      },
      "outputs": [],
      "source": [
        "def print_something(txt: str):\n",
        "    print(f'Você passou o argumento: {txt}')"
      ]
    },
    {
      "cell_type": "code",
      "execution_count": 52,
      "metadata": {
        "id": "vI08SVNgg9gL",
        "outputId": "d03c5cf0-f753-4c29-cc94-1bad000aa5c6",
        "colab": {
          "base_uri": "https://localhost:8080/"
        }
      },
      "outputs": [
        {
          "output_type": "stream",
          "name": "stdout",
          "text": [
            "Você passou o argumento: DCC 212\n"
          ]
        }
      ],
      "source": [
        "print_something('DCC 212')"
      ]
    },
    {
      "cell_type": "markdown",
      "metadata": {
        "id": "170UKrCcg9gL"
      },
      "source": [
        "Abaixo temos uma função que soma, a soma, dois vetores"
      ]
    },
    {
      "cell_type": "code",
      "execution_count": 53,
      "metadata": {
        "id": "sDEaUQNig9gL"
      },
      "outputs": [],
      "source": [
        "def sum_of_sum_vectors(array_1, array_2):\n",
        "    return (array_1 + array_2).sum()"
      ]
    },
    {
      "cell_type": "code",
      "execution_count": 54,
      "metadata": {
        "id": "N8DXD3S9g9gL"
      },
      "outputs": [],
      "source": [
        "x = np.array([1, 2])\n",
        "y = np.array([1, 2])"
      ]
    },
    {
      "cell_type": "code",
      "execution_count": 55,
      "metadata": {
        "id": "qbmewhLag9gM",
        "outputId": "da1a429a-d6d1-448c-985f-3eb8747a7b07",
        "colab": {
          "base_uri": "https://localhost:8080/"
        }
      },
      "outputs": [
        {
          "output_type": "execute_result",
          "data": {
            "text/plain": [
              "6"
            ]
          },
          "metadata": {},
          "execution_count": 55
        }
      ],
      "source": [
        "sum_of_sum_vectors(x, y)"
      ]
    },
    {
      "cell_type": "markdown",
      "metadata": {
        "id": "qPnv__Chg9gM"
      },
      "source": [
        "Abaixo temos um teste, tais testes vão avaliar o seu código. Nem todos estão aqui no notebook!"
      ]
    },
    {
      "cell_type": "code",
      "execution_count": 56,
      "metadata": {
        "id": "nuUnbHzIg9gM"
      },
      "outputs": [],
      "source": [
        "assert_equal(6, sum_of_sum_vectors(x, y))"
      ]
    },
    {
      "cell_type": "markdown",
      "metadata": {
        "id": "3Gsl8JKPg9gM"
      },
      "source": [
        "## Exercício 01\n",
        "\n",
        "Inicialmente, crie uma função que recebe duas listas de numéros, converte as duas para um vetor numpy usando `np.array` e retorna o produto interno das duas listas. \n",
        "\n",
        "__Dicas:__  \n",
        "1. Tente fazer um código sem nenhum **for**! Ou seja, numpy permite operações em vetores e matrizes, onde: `np.array([1, 2]) + np.array([2, 2]) = np.array([3, 4])`.\n",
        "\n",
        "__Funções:__\n",
        "1. `np.sum(array)` soma os elementos do array. `array.sum()` tem o mesmo efeito!"
      ]
    },
    {
      "cell_type": "code",
      "execution_count": 59,
      "metadata": {
        "id": "R01TpB25g9gM"
      },
      "outputs": [],
      "source": [
        "def inner(array_1, array_2):\n",
        "    return np.sum(np.array(array_1) * (np.array(array_2)))"
      ]
    },
    {
      "cell_type": "code",
      "execution_count": 61,
      "metadata": {
        "id": "FHE-9EnJg9gM"
      },
      "outputs": [],
      "source": [
        "x1 = np.array([2, 4, 8])\n",
        "x2 = np.array([10, 100, 1000])\n",
        "assert_equal(20 + 400 + 8000, inner(x1, x2))"
      ]
    },
    {
      "cell_type": "markdown",
      "metadata": {
        "id": "yj9_PKAmg9gN"
      },
      "source": [
        "## Exercício 02\n",
        "\n",
        "Implemente uma função utilizando numpy que recebe duas matrizes, multiplica as duas e retorne o valor médio das células da multiplicação. Por exemplo, ao multiplicar:\n",
        "\n",
        "```\n",
        "[1 2]\n",
        "[3 4] \n",
        "\n",
        "com \n",
        "\n",
        "[2 1]\n",
        "[1 2]\n",
        "\n",
        "temos\n",
        "\n",
        "[4  5 ]\n",
        "[10 11]\n",
        "\n",
        "onde a média de [4, 5, 10, 11] é\n",
        "\n",
        "7.5, sua resposta final!\n",
        "```\n",
        "\n",
        "\n",
        "__Dicas:__  \n",
        "1. Use o operador @ para multiplicar matrizes!"
      ]
    },
    {
      "cell_type": "code",
      "execution_count": 64,
      "metadata": {
        "id": "9_T9SYXNg9gN"
      },
      "outputs": [],
      "source": [
        "def medmult(X_1, X_2):\n",
        "    return np.mean(np.array(X_1) @ (np.array(X_2)))"
      ]
    },
    {
      "cell_type": "code",
      "execution_count": 65,
      "metadata": {
        "id": "2MZb4VYRg9gN"
      },
      "outputs": [],
      "source": [
        "X = np.array([1, 2, 3, 4]).reshape(2, 2)\n",
        "Y = np.array([2, 1, 1, 2]).reshape(2, 2)\n",
        "assert_equal(7.5, medmult(X, Y))"
      ]
    },
    {
      "cell_type": "code",
      "execution_count": 65,
      "metadata": {
        "id": "Kd4CSY3Og9gN"
      },
      "outputs": [],
      "source": [
        ""
      ]
    }
  ],
  "metadata": {
    "kernelspec": {
      "display_name": "Python 3",
      "language": "python",
      "name": "python3"
    },
    "language_info": {
      "codemirror_mode": {
        "name": "ipython",
        "version": 3
      },
      "file_extension": ".py",
      "mimetype": "text/x-python",
      "name": "python",
      "nbconvert_exporter": "python",
      "pygments_lexer": "ipython3",
      "version": "3.7.3"
    },
    "colab": {
      "name": "01-numpy.ipynb",
      "provenance": [],
      "include_colab_link": true
    }
  },
  "nbformat": 4,
  "nbformat_minor": 0
}