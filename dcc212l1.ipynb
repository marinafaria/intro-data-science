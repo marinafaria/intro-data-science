{
  "cells": [
    {
      "cell_type": "markdown",
      "metadata": {
        "id": "view-in-github",
        "colab_type": "text"
      },
      "source": [
        "<a href=\"https://colab.research.google.com/github/marinafaria/intro-date-science/blob/main/dcc212l1.ipynb\" target=\"_parent\"><img src=\"https://colab.research.google.com/assets/colab-badge.svg\" alt=\"Open In Colab\"/></a>"
      ]
    },
    {
      "cell_type": "markdown",
      "metadata": {
        "id": "Xh2WK4sWg9fq"
      },
      "source": [
        "# Lista 01 - Introdução e Revisão Numpy\n",
        "\n",
        "[NumPy](http://numpy.org) é um pacote incrivelmente poderoso em Python, onipresente em qualquer projeto de ciência de dados. Possui forte integração com o [Pandas](http://pandas.pydata.org), outra ferramenta que iremos abordar na matéria. NumPy adiciona suporte para matrizes multidimensionais e funções matemáticas que permitem que você execute facilmente cálculos de álgebra linear. Este notebook será uma coleção de exemplos de álgebra linear computados usando NumPy. \n",
        "\n",
        "## Numpy \n",
        "\n",
        "Para fazer uso de Numpy precisamos importar a biblioteca"
      ]
    },
    {
      "cell_type": "code",
      "execution_count": 1,
      "metadata": {
        "id": "FMirpW4og9fw"
      },
      "outputs": [],
      "source": [
        "# -*- coding: utf8\n",
        "\n",
        "import numpy as np"
      ]
    },
    {
      "cell_type": "markdown",
      "metadata": {
        "id": "na7PKB_Mg9fy"
      },
      "source": [
        "Quando pensamos no lado prático de ciência de dados, um aspecto chave que ajuda na implementação de novos algoritmos é a vetorização. De forma simples, vetorização consiste do uso de tipos como **escalar**, **vetor** e **matriz** para realizar uma computação mais eficaz (em tempo de execução).\n",
        "\n",
        "Uma matriz é uma coleção de valores, normalmente representada por uma grade 𝑚 × 𝑛, onde 𝑚 é o número de linhas e 𝑛 é o número de colunas. Os comprimentos das arestas 𝑚 e 𝑛 não precisam ser necessariamente diferentes. Se tivermos 𝑚 = 𝑛, chamamos isso de matriz quadrada. Um caso particularmente interessante de uma matriz é quando 𝑚 = 1 ou 𝑛 = 1. Nesse caso, temos um caso especial de uma matriz que chamamos de vetor. Embora haja um objeto de matriz em NumPy, faremos tudo usando matrizes NumPy porque elas podem ter dimensões maiores que 2. \n",
        "\n",
        "1. **Escalar:** Um vetor de zero dimensões"
      ]
    },
    {
      "cell_type": "code",
      "execution_count": 2,
      "metadata": {
        "id": "4N_SfspLg9fz",
        "outputId": "6676ea5a-0911-4a88-d22c-b5094636daa2",
        "colab": {
          "base_uri": "https://localhost:8080/"
        }
      },
      "outputs": [
        {
          "output_type": "execute_result",
          "data": {
            "text/plain": [
              "1"
            ]
          },
          "metadata": {},
          "execution_count": 2
        }
      ],
      "source": [
        "1"
      ]
    },
    {
      "cell_type": "markdown",
      "metadata": {
        "id": "EMML5Hvzg9f0"
      },
      "source": [
        "2. **Vetor:** Representa uma dimensão"
      ]
    },
    {
      "cell_type": "markdown",
      "metadata": {
        "id": "8iS-MVNkg9f0"
      },
      "source": [
        "Abaixo vamos criar um vetor simples. Inicialmente, vamos criar uma lista."
      ]
    },
    {
      "cell_type": "code",
      "execution_count": 3,
      "metadata": {
        "id": "e0dAkKG1g9f1"
      },
      "outputs": [],
      "source": [
        "data_list = [3.5, 5, 2, 8, 4.2]"
      ]
    },
    {
      "cell_type": "markdown",
      "metadata": {
        "id": "Ei6LBsW3g9f2"
      },
      "source": [
        "Observe o tipo da mesma."
      ]
    },
    {
      "cell_type": "code",
      "execution_count": 4,
      "metadata": {
        "id": "UC2uOjIog9f2",
        "outputId": "b6e3a203-fe8b-438c-b30e-b65e7d0d8bb8",
        "colab": {
          "base_uri": "https://localhost:8080/"
        }
      },
      "outputs": [
        {
          "output_type": "execute_result",
          "data": {
            "text/plain": [
              "list"
            ]
          },
          "metadata": {},
          "execution_count": 4
        }
      ],
      "source": [
        "type(data_list)"
      ]
    },
    {
      "cell_type": "markdown",
      "metadata": {
        "id": "YDGeRayNg9f3"
      },
      "source": [
        "Embora vetores e listas sejam parecidos, vetores Numpy são otimizados para operações de Álgebra Linear. Ciência de Dados faz bastante uso de tais operações, sendo este um dos motivos da dependência em Numpy.\n",
        "\n",
        "Abaixo criamos um vetor."
      ]
    },
    {
      "cell_type": "code",
      "execution_count": 5,
      "metadata": {
        "id": "MzUzLv4Pg9f4",
        "outputId": "d3692475-5ea5-4619-d867-d9a602add1c8",
        "colab": {
          "base_uri": "https://localhost:8080/"
        }
      },
      "outputs": [
        {
          "output_type": "stream",
          "name": "stdout",
          "text": [
            "[3.5 5.  2.  8.  4.2]\n",
            "<class 'numpy.ndarray'>\n"
          ]
        }
      ],
      "source": [
        "data = np.array(data_list)\n",
        "print(data)\n",
        "print(type(data))"
      ]
    },
    {
      "cell_type": "markdown",
      "metadata": {
        "id": "EW9vxfwHg9f4"
      },
      "source": [
        "Observe como podemos somar o mesmo com um número. Não é possível fazer tal operação com listas."
      ]
    },
    {
      "cell_type": "code",
      "execution_count": 6,
      "metadata": {
        "id": "5tCENKjVg9f5",
        "outputId": "34d5dbe4-4e0a-459a-e74c-21d01181be44",
        "colab": {
          "base_uri": "https://localhost:8080/"
        }
      },
      "outputs": [
        {
          "output_type": "execute_result",
          "data": {
            "text/plain": [
              "array([10.5, 12. ,  9. , 15. , 11.2])"
            ]
          },
          "metadata": {},
          "execution_count": 6
        }
      ],
      "source": [
        "data + 7"
      ]
    },
    {
      "cell_type": "markdown",
      "metadata": {
        "id": "Vzzutm-Zg9f5"
      },
      "source": [
        "3. **Matrizes:** Representam duas dimensões."
      ]
    },
    {
      "cell_type": "code",
      "execution_count": 7,
      "metadata": {
        "id": "uZK1eEeGg9f6",
        "outputId": "d070de5f-c0b2-4504-87a2-e9885d33be64",
        "colab": {
          "base_uri": "https://localhost:8080/"
        }
      },
      "outputs": [
        {
          "output_type": "execute_result",
          "data": {
            "text/plain": [
              "array([[2, 4],\n",
              "       [1, 3]])"
            ]
          },
          "metadata": {},
          "execution_count": 7
        }
      ],
      "source": [
        "X = np.array([[2, 4],\n",
        "              [1, 3]])\n",
        "X"
      ]
    },
    {
      "cell_type": "markdown",
      "metadata": {
        "id": "vNec1Bg1g9f6"
      },
      "source": [
        "Podemos indexar as matrizes e os vetores."
      ]
    },
    {
      "cell_type": "code",
      "execution_count": 8,
      "metadata": {
        "id": "7H-cvjMFg9f6",
        "outputId": "4314a60e-26d3-4245-a458-c217a98c9ac5",
        "colab": {
          "base_uri": "https://localhost:8080/"
        }
      },
      "outputs": [
        {
          "output_type": "execute_result",
          "data": {
            "text/plain": [
              "3.5"
            ]
          },
          "metadata": {},
          "execution_count": 8
        }
      ],
      "source": [
        "data[0]"
      ]
    },
    {
      "cell_type": "code",
      "execution_count": 9,
      "metadata": {
        "id": "wtWAPmF-g9f7",
        "outputId": "9c4e1a08-3e45-4ce7-e759-ae7be8604d44",
        "colab": {
          "base_uri": "https://localhost:8080/"
        }
      },
      "outputs": [
        {
          "output_type": "execute_result",
          "data": {
            "text/plain": [
              "4"
            ]
          },
          "metadata": {},
          "execution_count": 9
        }
      ],
      "source": [
        "X[0, 1] # aqui é primeira linha, segunda coluna"
      ]
    },
    {
      "cell_type": "markdown",
      "metadata": {
        "id": "hjdOh626g9f7"
      },
      "source": [
        "Podemos também criar vetores/matrizes de números aleatórios"
      ]
    },
    {
      "cell_type": "code",
      "execution_count": 10,
      "metadata": {
        "id": "dO16MyI_g9f7",
        "outputId": "c88f4cc9-e261-41bf-ff84-46e877111a1e",
        "colab": {
          "base_uri": "https://localhost:8080/"
        }
      },
      "outputs": [
        {
          "output_type": "stream",
          "name": "stdout",
          "text": [
            "[[-0.82848223  0.29487763 -0.52543226]\n",
            " [ 1.01028657  0.80393046 -0.40616312]\n",
            " [ 0.32458605 -0.53499628  0.33208569]\n",
            " [ 0.25779164 -1.62305795  1.10050195]]\n"
          ]
        }
      ],
      "source": [
        "X = np.random.randn(4, 3) # Gera números aleatórios de uma normal\n",
        "print(X)"
      ]
    },
    {
      "cell_type": "markdown",
      "metadata": {
        "id": "jO1nujlfg9f8"
      },
      "source": [
        "### Indexando\n",
        "\n",
        "Pegando a primeira linha"
      ]
    },
    {
      "cell_type": "code",
      "execution_count": 11,
      "metadata": {
        "id": "Yh0-6Gcpg9f8",
        "outputId": "ca2f473c-e52a-40c1-87fc-54b98b679f14",
        "colab": {
          "base_uri": "https://localhost:8080/"
        }
      },
      "outputs": [
        {
          "output_type": "execute_result",
          "data": {
            "text/plain": [
              "array([-0.82848223,  0.29487763, -0.52543226])"
            ]
          },
          "metadata": {},
          "execution_count": 11
        }
      ],
      "source": [
        "X[0] # observe que 0 é a linha 1, compare com o X[0, 1] de antes."
      ]
    },
    {
      "cell_type": "code",
      "execution_count": 12,
      "metadata": {
        "id": "_vEaO1y6g9f9",
        "outputId": "c5a83139-e33c-4f82-ed7a-a91f5f807bf1",
        "colab": {
          "base_uri": "https://localhost:8080/"
        }
      },
      "outputs": [
        {
          "output_type": "execute_result",
          "data": {
            "text/plain": [
              "array([ 1.01028657,  0.80393046, -0.40616312])"
            ]
          },
          "metadata": {},
          "execution_count": 12
        }
      ],
      "source": [
        "X[1] # segunda"
      ]
    },
    {
      "cell_type": "code",
      "execution_count": 13,
      "metadata": {
        "id": "QN-aseqVg9f9",
        "outputId": "8cdd3102-d4a4-4258-9589-d8a7c1894605",
        "colab": {
          "base_uri": "https://localhost:8080/"
        }
      },
      "outputs": [
        {
          "output_type": "execute_result",
          "data": {
            "text/plain": [
              "array([ 0.32458605, -0.53499628,  0.33208569])"
            ]
          },
          "metadata": {},
          "execution_count": 13
        }
      ],
      "source": [
        "X[2] # terceira"
      ]
    },
    {
      "cell_type": "markdown",
      "metadata": {
        "id": "tPUgMBPVg9f9"
      },
      "source": [
        "Observe como todos os tipos retornados são `array`. Array é o nome genérico de Numpy para vetores e matrizes. "
      ]
    },
    {
      "cell_type": "markdown",
      "metadata": {
        "id": "lIne7uicg9f-"
      },
      "source": [
        "`X[:, c]` pega uma coluna"
      ]
    },
    {
      "cell_type": "code",
      "execution_count": 14,
      "metadata": {
        "id": "GXApcAYYg9f-",
        "outputId": "f9eb7c11-1876-40f2-d883-968532ea0268",
        "colab": {
          "base_uri": "https://localhost:8080/"
        }
      },
      "outputs": [
        {
          "output_type": "execute_result",
          "data": {
            "text/plain": [
              "array([-0.82848223,  1.01028657,  0.32458605,  0.25779164])"
            ]
          },
          "metadata": {},
          "execution_count": 14
        }
      ],
      "source": [
        "X[:, 0]"
      ]
    },
    {
      "cell_type": "code",
      "execution_count": 15,
      "metadata": {
        "id": "wamvIPwpg9f-",
        "outputId": "63822ef8-507f-4c2d-b906-a9d68e210001",
        "colab": {
          "base_uri": "https://localhost:8080/"
        }
      },
      "outputs": [
        {
          "output_type": "execute_result",
          "data": {
            "text/plain": [
              "array([ 0.29487763,  0.80393046, -0.53499628, -1.62305795])"
            ]
          },
          "metadata": {},
          "execution_count": 15
        }
      ],
      "source": [
        "X[:, 1]"
      ]
    },
    {
      "cell_type": "markdown",
      "metadata": {
        "id": "elkm7oRJg9f-"
      },
      "source": [
        "`X[um_vetor]` pega as linhas da matriz. `X[:, um_vetor]` pega as colunas"
      ]
    },
    {
      "cell_type": "code",
      "execution_count": 16,
      "metadata": {
        "id": "13gWvO8Dg9f_",
        "outputId": "cdac61e9-1967-4b81-b990-8f33896354f0",
        "colab": {
          "base_uri": "https://localhost:8080/"
        }
      },
      "outputs": [
        {
          "output_type": "execute_result",
          "data": {
            "text/plain": [
              "array([[-0.82848223,  0.29487763, -0.52543226],\n",
              "       [-0.82848223,  0.29487763, -0.52543226],\n",
              "       [ 1.01028657,  0.80393046, -0.40616312]])"
            ]
          },
          "metadata": {},
          "execution_count": 16
        }
      ],
      "source": [
        "X[[0, 0, 1]] # observe que pego a primeira linha, indexada por 0, duas vezes"
      ]
    },
    {
      "cell_type": "markdown",
      "metadata": {
        "id": "_0pHkST1g9f_"
      },
      "source": [
        "Abaixo pego a segunda a primeira coluna"
      ]
    },
    {
      "cell_type": "code",
      "execution_count": 17,
      "metadata": {
        "id": "v27Py_lJg9f_",
        "outputId": "c134f050-5697-4a0c-86f4-c8f3dfe59a74",
        "colab": {
          "base_uri": "https://localhost:8080/"
        }
      },
      "outputs": [
        {
          "output_type": "execute_result",
          "data": {
            "text/plain": [
              "array([[ 0.29487763, -0.82848223],\n",
              "       [ 0.80393046,  1.01028657],\n",
              "       [-0.53499628,  0.32458605],\n",
              "       [-1.62305795,  0.25779164]])"
            ]
          },
          "metadata": {},
          "execution_count": 17
        }
      ],
      "source": [
        "X[:, [1, 0]]"
      ]
    },
    {
      "cell_type": "markdown",
      "metadata": {
        "id": "sqE0r52ng9f_"
      },
      "source": [
        "### Indexação Booleana\n",
        "\n",
        "`X[vetor_booleano]` retorna as linhas (ou colunas quando X[:, vetor_booleano]) onde o vetor é true"
      ]
    },
    {
      "cell_type": "code",
      "execution_count": 18,
      "metadata": {
        "id": "IX6X5Xszg9gA",
        "outputId": "d96d23ce-f369-4380-85e6-fabb459df9c0",
        "colab": {
          "base_uri": "https://localhost:8080/"
        }
      },
      "outputs": [
        {
          "output_type": "execute_result",
          "data": {
            "text/plain": [
              "array([[-0.82848223,  0.29487763, -0.52543226],\n",
              "       [ 0.32458605, -0.53499628,  0.33208569]])"
            ]
          },
          "metadata": {},
          "execution_count": 18
        }
      ],
      "source": [
        "X[[True, False, True, False]]"
      ]
    },
    {
      "cell_type": "code",
      "execution_count": 19,
      "metadata": {
        "id": "cdrXJoWrg9gA",
        "outputId": "adb88ea5-9712-45e0-f8fa-14193cd7ed29",
        "colab": {
          "base_uri": "https://localhost:8080/"
        }
      },
      "outputs": [
        {
          "output_type": "execute_result",
          "data": {
            "text/plain": [
              "array([[ 0.29487763, -0.52543226],\n",
              "       [ 0.80393046, -0.40616312],\n",
              "       [-0.53499628,  0.33208569],\n",
              "       [-1.62305795,  1.10050195]])"
            ]
          },
          "metadata": {},
          "execution_count": 19
        }
      ],
      "source": [
        "X[:, [False, True, True]]"
      ]
    },
    {
      "cell_type": "markdown",
      "metadata": {
        "id": "ozO-bNmQg9gA"
      },
      "source": [
        "### Reshape, Flatten e Ravel\n",
        "\n",
        "Todo vetor ou matriz pode ser redimensionado. Observe como uma matriz abaixo de 9x8=72 elementos. Podemos redimensionar os mesmos para outros arrays de tamanho 72."
      ]
    },
    {
      "cell_type": "code",
      "execution_count": 20,
      "metadata": {
        "id": "frHaY3eRg9gA",
        "colab": {
          "base_uri": "https://localhost:8080/"
        },
        "outputId": "ddbe9e63-77ed-4444-dbff-306f393af962"
      },
      "outputs": [
        {
          "output_type": "stream",
          "name": "stdout",
          "text": [
            "[[-0.94373862 -2.1589863  -0.64178438 -0.25605387 -1.21779542  1.41967235\n",
            "   0.86273184 -0.84332008]\n",
            " [-0.11465658 -0.98659137  0.55511899 -0.263174    1.13962327 -1.22813543\n",
            "   1.06475147  0.86675172]\n",
            " [ 0.95708482  0.92538185  0.22164299 -0.54467275  1.13500247 -0.89796198\n",
            "  -0.18759275 -2.48777183]\n",
            " [ 0.13131058 -0.23179965 -1.30001564 -1.08574641 -1.4108023  -1.4303215\n",
            "  -1.34528703 -1.24396208]\n",
            " [-0.91248098 -0.32490175 -1.32682069  0.08156434  1.93966177 -1.04799035\n",
            "  -0.73067849  1.90481051]\n",
            " [ 0.16723217 -0.95597022 -2.09292199 -0.28509409  0.11820098 -0.78744563\n",
            "  -0.40504954 -1.83800392]\n",
            " [-0.35371312 -0.09795753 -1.29432301 -0.96159394 -1.22362584 -0.13549461\n",
            "   0.30644945 -0.55976061]\n",
            " [ 0.17652255  0.57691774  0.81201818 -0.03309556 -0.67089777 -1.76115264\n",
            "   0.41736817  0.95510645]\n",
            " [ 1.00215451  1.67992652 -0.60545251 -0.67020124  1.44604994  1.06887832\n",
            "   0.37658383 -1.59539222]]\n"
          ]
        }
      ],
      "source": [
        "X = np.random.randn(9, 8)\n",
        "print(X)"
      ]
    },
    {
      "cell_type": "markdown",
      "metadata": {
        "id": "lJsd2GQTg9gB"
      },
      "source": [
        "Criando uma matriz de 18x4."
      ]
    },
    {
      "cell_type": "code",
      "execution_count": 21,
      "metadata": {
        "id": "JoQBZvfAg9gB",
        "colab": {
          "base_uri": "https://localhost:8080/"
        },
        "outputId": "1aac6e33-ee86-4276-b390-6d3f6d62ba73"
      },
      "outputs": [
        {
          "output_type": "execute_result",
          "data": {
            "text/plain": [
              "array([[-0.94373862, -2.1589863 , -0.64178438, -0.25605387],\n",
              "       [-1.21779542,  1.41967235,  0.86273184, -0.84332008],\n",
              "       [-0.11465658, -0.98659137,  0.55511899, -0.263174  ],\n",
              "       [ 1.13962327, -1.22813543,  1.06475147,  0.86675172],\n",
              "       [ 0.95708482,  0.92538185,  0.22164299, -0.54467275],\n",
              "       [ 1.13500247, -0.89796198, -0.18759275, -2.48777183],\n",
              "       [ 0.13131058, -0.23179965, -1.30001564, -1.08574641],\n",
              "       [-1.4108023 , -1.4303215 , -1.34528703, -1.24396208],\n",
              "       [-0.91248098, -0.32490175, -1.32682069,  0.08156434],\n",
              "       [ 1.93966177, -1.04799035, -0.73067849,  1.90481051],\n",
              "       [ 0.16723217, -0.95597022, -2.09292199, -0.28509409],\n",
              "       [ 0.11820098, -0.78744563, -0.40504954, -1.83800392],\n",
              "       [-0.35371312, -0.09795753, -1.29432301, -0.96159394],\n",
              "       [-1.22362584, -0.13549461,  0.30644945, -0.55976061],\n",
              "       [ 0.17652255,  0.57691774,  0.81201818, -0.03309556],\n",
              "       [-0.67089777, -1.76115264,  0.41736817,  0.95510645],\n",
              "       [ 1.00215451,  1.67992652, -0.60545251, -0.67020124],\n",
              "       [ 1.44604994,  1.06887832,  0.37658383, -1.59539222]])"
            ]
          },
          "metadata": {},
          "execution_count": 21
        }
      ],
      "source": [
        "X.reshape((18, 4))"
      ]
    },
    {
      "cell_type": "markdown",
      "metadata": {
        "id": "vEX6XC7mg9gB"
      },
      "source": [
        "Ou um vetor de 72"
      ]
    },
    {
      "cell_type": "code",
      "execution_count": 22,
      "metadata": {
        "id": "OFVauZ5Jg9gB",
        "colab": {
          "base_uri": "https://localhost:8080/"
        },
        "outputId": "4954468b-ffc4-47c5-d8d3-dcce77c172e7"
      },
      "outputs": [
        {
          "output_type": "execute_result",
          "data": {
            "text/plain": [
              "array([-0.94373862, -2.1589863 , -0.64178438, -0.25605387, -1.21779542,\n",
              "        1.41967235,  0.86273184, -0.84332008, -0.11465658, -0.98659137,\n",
              "        0.55511899, -0.263174  ,  1.13962327, -1.22813543,  1.06475147,\n",
              "        0.86675172,  0.95708482,  0.92538185,  0.22164299, -0.54467275,\n",
              "        1.13500247, -0.89796198, -0.18759275, -2.48777183,  0.13131058,\n",
              "       -0.23179965, -1.30001564, -1.08574641, -1.4108023 , -1.4303215 ,\n",
              "       -1.34528703, -1.24396208, -0.91248098, -0.32490175, -1.32682069,\n",
              "        0.08156434,  1.93966177, -1.04799035, -0.73067849,  1.90481051,\n",
              "        0.16723217, -0.95597022, -2.09292199, -0.28509409,  0.11820098,\n",
              "       -0.78744563, -0.40504954, -1.83800392, -0.35371312, -0.09795753,\n",
              "       -1.29432301, -0.96159394, -1.22362584, -0.13549461,  0.30644945,\n",
              "       -0.55976061,  0.17652255,  0.57691774,  0.81201818, -0.03309556,\n",
              "       -0.67089777, -1.76115264,  0.41736817,  0.95510645,  1.00215451,\n",
              "        1.67992652, -0.60545251, -0.67020124,  1.44604994,  1.06887832,\n",
              "        0.37658383, -1.59539222])"
            ]
          },
          "metadata": {},
          "execution_count": 22
        }
      ],
      "source": [
        "X.reshape(72)"
      ]
    },
    {
      "cell_type": "markdown",
      "metadata": {
        "id": "BLL4-CCEg9gB"
      },
      "source": [
        "A chamada flatten e ravel faz a mesma coisa, criam uma visão de uma dimensão da matriz."
      ]
    },
    {
      "cell_type": "code",
      "execution_count": 23,
      "metadata": {
        "id": "peHb5Z_pg9gB",
        "colab": {
          "base_uri": "https://localhost:8080/"
        },
        "outputId": "05238155-89ae-4e49-9689-3e3f641c9fa1"
      },
      "outputs": [
        {
          "output_type": "execute_result",
          "data": {
            "text/plain": [
              "array([-0.94373862, -2.1589863 , -0.64178438, -0.25605387, -1.21779542,\n",
              "        1.41967235,  0.86273184, -0.84332008, -0.11465658, -0.98659137,\n",
              "        0.55511899, -0.263174  ,  1.13962327, -1.22813543,  1.06475147,\n",
              "        0.86675172,  0.95708482,  0.92538185,  0.22164299, -0.54467275,\n",
              "        1.13500247, -0.89796198, -0.18759275, -2.48777183,  0.13131058,\n",
              "       -0.23179965, -1.30001564, -1.08574641, -1.4108023 , -1.4303215 ,\n",
              "       -1.34528703, -1.24396208, -0.91248098, -0.32490175, -1.32682069,\n",
              "        0.08156434,  1.93966177, -1.04799035, -0.73067849,  1.90481051,\n",
              "        0.16723217, -0.95597022, -2.09292199, -0.28509409,  0.11820098,\n",
              "       -0.78744563, -0.40504954, -1.83800392, -0.35371312, -0.09795753,\n",
              "       -1.29432301, -0.96159394, -1.22362584, -0.13549461,  0.30644945,\n",
              "       -0.55976061,  0.17652255,  0.57691774,  0.81201818, -0.03309556,\n",
              "       -0.67089777, -1.76115264,  0.41736817,  0.95510645,  1.00215451,\n",
              "        1.67992652, -0.60545251, -0.67020124,  1.44604994,  1.06887832,\n",
              "        0.37658383, -1.59539222])"
            ]
          },
          "metadata": {},
          "execution_count": 23
        }
      ],
      "source": [
        "X.flatten()"
      ]
    },
    {
      "cell_type": "code",
      "execution_count": 24,
      "metadata": {
        "id": "4smM3BzBg9gC",
        "colab": {
          "base_uri": "https://localhost:8080/"
        },
        "outputId": "99fb07eb-dee7-4049-90a0-070ba792c7af"
      },
      "outputs": [
        {
          "output_type": "execute_result",
          "data": {
            "text/plain": [
              "array([-0.94373862, -2.1589863 , -0.64178438, -0.25605387, -1.21779542,\n",
              "        1.41967235,  0.86273184, -0.84332008, -0.11465658, -0.98659137,\n",
              "        0.55511899, -0.263174  ,  1.13962327, -1.22813543,  1.06475147,\n",
              "        0.86675172,  0.95708482,  0.92538185,  0.22164299, -0.54467275,\n",
              "        1.13500247, -0.89796198, -0.18759275, -2.48777183,  0.13131058,\n",
              "       -0.23179965, -1.30001564, -1.08574641, -1.4108023 , -1.4303215 ,\n",
              "       -1.34528703, -1.24396208, -0.91248098, -0.32490175, -1.32682069,\n",
              "        0.08156434,  1.93966177, -1.04799035, -0.73067849,  1.90481051,\n",
              "        0.16723217, -0.95597022, -2.09292199, -0.28509409,  0.11820098,\n",
              "       -0.78744563, -0.40504954, -1.83800392, -0.35371312, -0.09795753,\n",
              "       -1.29432301, -0.96159394, -1.22362584, -0.13549461,  0.30644945,\n",
              "       -0.55976061,  0.17652255,  0.57691774,  0.81201818, -0.03309556,\n",
              "       -0.67089777, -1.76115264,  0.41736817,  0.95510645,  1.00215451,\n",
              "        1.67992652, -0.60545251, -0.67020124,  1.44604994,  1.06887832,\n",
              "        0.37658383, -1.59539222])"
            ]
          },
          "metadata": {},
          "execution_count": 24
        }
      ],
      "source": [
        "X.ravel()"
      ]
    },
    {
      "cell_type": "markdown",
      "metadata": {
        "id": "stmWEiBWg9gC"
      },
      "source": [
        "As funções incorporadas ao NumPy podem ser facilmente chamadas em matrizes. A maioria das funções são aplicadas a um elemento de array (como a multiplicação escalar). Por exemplo, se chamarmos `log()` em um array, o logaritmo será obtido de cada elemento. "
      ]
    },
    {
      "cell_type": "code",
      "execution_count": 25,
      "metadata": {
        "id": "a0Yysx3qg9gC",
        "colab": {
          "base_uri": "https://localhost:8080/"
        },
        "outputId": "4af63446-522c-4c05-ded8-cef24eb69a3c"
      },
      "outputs": [
        {
          "output_type": "execute_result",
          "data": {
            "text/plain": [
              "array([1.25276297, 1.60943791, 0.69314718, 2.07944154, 1.43508453])"
            ]
          },
          "metadata": {},
          "execution_count": 25
        }
      ],
      "source": [
        "np.log(data)"
      ]
    },
    {
      "cell_type": "markdown",
      "metadata": {
        "id": "DWnTr-_hg9gC"
      },
      "source": [
        "Mean tira a média"
      ]
    },
    {
      "cell_type": "code",
      "execution_count": 26,
      "metadata": {
        "id": "nRECjlbog9gD",
        "colab": {
          "base_uri": "https://localhost:8080/"
        },
        "outputId": "f5a312db-2d13-42fa-8bf8-6cb7e5ddb294"
      },
      "outputs": [
        {
          "output_type": "execute_result",
          "data": {
            "text/plain": [
              "4.54"
            ]
          },
          "metadata": {},
          "execution_count": 26
        }
      ],
      "source": [
        "np.mean(data)"
      ]
    },
    {
      "cell_type": "markdown",
      "metadata": {
        "id": "b0bPLQwgg9gD"
      },
      "source": [
        "Algumas funções podem ser chamadas direto no vetor, nem todas serão assim. O importante é ler a [documentação](http://numpy.org) e aprender. Com um pouco de prática você vai se acostumando."
      ]
    },
    {
      "cell_type": "code",
      "execution_count": 27,
      "metadata": {
        "id": "RSZHE8Pkg9gD",
        "colab": {
          "base_uri": "https://localhost:8080/"
        },
        "outputId": "c18e7d27-dbdb-4458-bb44-da3da30233cf"
      },
      "outputs": [
        {
          "output_type": "execute_result",
          "data": {
            "text/plain": [
              "4.54"
            ]
          },
          "metadata": {},
          "execution_count": 27
        }
      ],
      "source": [
        "data.mean()"
      ]
    },
    {
      "cell_type": "markdown",
      "metadata": {
        "id": "qiGiTiQ3g9gD"
      },
      "source": [
        "Abaixo temos a mediana,"
      ]
    },
    {
      "cell_type": "code",
      "execution_count": 28,
      "metadata": {
        "id": "vCIU58E5g9gD",
        "colab": {
          "base_uri": "https://localhost:8080/"
        },
        "outputId": "f5d72d03-8772-4685-bdf1-96869b403c8a"
      },
      "outputs": [
        {
          "output_type": "execute_result",
          "data": {
            "text/plain": [
              "4.2"
            ]
          },
          "metadata": {},
          "execution_count": 28
        }
      ],
      "source": [
        "np.median(data) # por exemplo, não existe data.median(). Faz sentido? Não. Mas é assim."
      ]
    },
    {
      "cell_type": "markdown",
      "metadata": {
        "id": "lIHiXqf0g9gE"
      },
      "source": [
        "Em matrizes as funções operam em todos os elemntos."
      ]
    },
    {
      "cell_type": "code",
      "execution_count": 29,
      "metadata": {
        "id": "FC4QtOO4g9gE",
        "colab": {
          "base_uri": "https://localhost:8080/"
        },
        "outputId": "7f74e6fd-acb4-4c57-fc4e-1004805bb162"
      },
      "outputs": [
        {
          "output_type": "execute_result",
          "data": {
            "text/plain": [
              "-0.3049979216069006"
            ]
          },
          "metadata": {},
          "execution_count": 29
        }
      ],
      "source": [
        "np.median(X)"
      ]
    },
    {
      "cell_type": "code",
      "execution_count": 30,
      "metadata": {
        "id": "mABgoGLng9gE",
        "colab": {
          "base_uri": "https://localhost:8080/"
        },
        "outputId": "9d98b8a3-23e2-413c-ffec-846ab7108e60"
      },
      "outputs": [
        {
          "output_type": "execute_result",
          "data": {
            "text/plain": [
              "-0.26641208939873606"
            ]
          },
          "metadata": {},
          "execution_count": 30
        }
      ],
      "source": [
        "X.mean()"
      ]
    },
    {
      "cell_type": "code",
      "execution_count": 31,
      "metadata": {
        "id": "bWkAPSJYg9gE",
        "colab": {
          "base_uri": "https://localhost:8080/"
        },
        "outputId": "eb9bca23-a06d-4a5d-8edb-7e51660ddfec"
      },
      "outputs": [
        {
          "output_type": "execute_result",
          "data": {
            "text/plain": [
              "array([[2.20345638, 2.05936813, 2.23625463, 2.27664618, 2.17272747,\n",
              "        2.43533751, 2.38533783, 2.21448366],\n",
              "       [2.2910532 , 2.19871332, 2.35661095, 2.27591519, 2.41050842,\n",
              "        2.17154939, 2.40376451, 2.38570783],\n",
              "       [2.39398626, 2.39108869, 2.32450733, 2.24657831, 2.41009352,\n",
              "        2.20849835, 2.28364763, 2.01653212],\n",
              "       [2.31563069, 2.27913225, 2.16332123, 2.18765152, 2.15050533,\n",
              "        2.14823022, 2.15810402, 2.16974351],\n",
              "       [2.20690194, 2.26955539, 2.16023543, 2.31070844, 2.47986578,\n",
              "        2.19187805, 2.22671019, 2.47694256],\n",
              "       [2.31917002, 2.20210485, 2.06775831, 2.2736614 , 2.31433588,\n",
              "        2.22056716, 2.26123697, 2.09948876],\n",
              "       [2.26657306, 2.29274105, 2.16397534, 2.20148284, 2.17206336,\n",
              "        2.288943  , 2.33276986, 2.24498134],\n",
              "       [2.32008336, 2.35867406, 2.38065831, 2.29927005, 2.23313879,\n",
              "        2.10886045, 2.34347443, 2.39380569],\n",
              "       [2.39809112, 2.45787169, 2.24012947, 2.23321345, 2.43764469,\n",
              "        2.40413742, 2.33955171, 2.1287801 ]])"
            ]
          },
          "metadata": {},
          "execution_count": 31
        }
      ],
      "source": [
        "np.log(X + 10)"
      ]
    },
    {
      "cell_type": "markdown",
      "metadata": {
        "id": "O3-B4IUQg9gE"
      },
      "source": [
        "Porém, caso você queira a media de linhas ou colunas use `axis`. Antes, vamos ver o tamanho do vetor."
      ]
    },
    {
      "cell_type": "code",
      "execution_count": 32,
      "metadata": {
        "id": "6zXCaYKzg9gF",
        "colab": {
          "base_uri": "https://localhost:8080/"
        },
        "outputId": "5282d9e5-9dd7-468f-a7b3-5fd3067a3130"
      },
      "outputs": [
        {
          "output_type": "execute_result",
          "data": {
            "text/plain": [
              "(9, 8)"
            ]
          },
          "metadata": {},
          "execution_count": 32
        }
      ],
      "source": [
        "X.shape"
      ]
    },
    {
      "cell_type": "code",
      "execution_count": 33,
      "metadata": {
        "id": "Tw5u4GlYg9gF",
        "colab": {
          "base_uri": "https://localhost:8080/"
        },
        "outputId": "0064f1e5-d11c-440a-c744-377e05058134"
      },
      "outputs": [
        {
          "output_type": "execute_result",
          "data": {
            "text/plain": [
              "array([ 0.01219059, -0.17488674, -0.63028201, -0.44645195,  0.13949079,\n",
              "       -0.53332794,  0.03991966, -0.53794912])"
            ]
          },
          "metadata": {},
          "execution_count": 33
        }
      ],
      "source": [
        "np.mean(X, axis=0) # média das colunas. como temos 8 colunas, temos 8 elementos."
      ]
    },
    {
      "cell_type": "code",
      "execution_count": 34,
      "metadata": {
        "id": "lKMMUpk_g9gF",
        "colab": {
          "base_uri": "https://localhost:8080/"
        },
        "outputId": "b57e9581-6f99-493d-bda0-dbba7961244a"
      },
      "outputs": [
        {
          "output_type": "execute_result",
          "data": {
            "text/plain": [
              "(8,)"
            ]
          },
          "metadata": {},
          "execution_count": 34
        }
      ],
      "source": [
        "np.mean(X, axis=0).shape"
      ]
    },
    {
      "cell_type": "code",
      "execution_count": 35,
      "metadata": {
        "id": "HLsVfTJyg9gF",
        "colab": {
          "base_uri": "https://localhost:8080/"
        },
        "outputId": "964ff8c4-91b7-4fdf-bb73-bcadaa138a24"
      },
      "outputs": [
        {
          "output_type": "execute_result",
          "data": {
            "text/plain": [
              "array([-0.47240931,  0.12921101, -0.1098609 , -0.98957801, -0.05210445,\n",
              "       -0.75988153, -0.5400024 ,  0.05909839,  0.33781839])"
            ]
          },
          "metadata": {},
          "execution_count": 35
        }
      ],
      "source": [
        "np.mean(X, axis=1) # média das linhas"
      ]
    },
    {
      "cell_type": "code",
      "execution_count": 36,
      "metadata": {
        "id": "vgvLLSpeg9gF",
        "colab": {
          "base_uri": "https://localhost:8080/"
        },
        "outputId": "64f7e49b-91f4-409c-8174-057545d056c3"
      },
      "outputs": [
        {
          "output_type": "execute_result",
          "data": {
            "text/plain": [
              "(9,)"
            ]
          },
          "metadata": {},
          "execution_count": 36
        }
      ],
      "source": [
        "np.mean(X, axis=1).shape"
      ]
    },
    {
      "cell_type": "markdown",
      "metadata": {
        "id": "mR3Irgv7g9gG"
      },
      "source": [
        "Lembre-se que eixo 0 é coluna. Eixo 1 é linas."
      ]
    },
    {
      "cell_type": "markdown",
      "metadata": {
        "id": "diAN1UCMg9gG"
      },
      "source": [
        "### Multiplicação de Matrizes"
      ]
    },
    {
      "cell_type": "markdown",
      "metadata": {
        "id": "OWfQcpJ-g9gG"
      },
      "source": [
        "Para transpor uma matriz fazemos uso de .T"
      ]
    },
    {
      "cell_type": "code",
      "execution_count": 37,
      "metadata": {
        "id": "Po1WZoQsg9gG",
        "outputId": "426a8a63-592f-4dc4-e57d-9df219ecc0b8",
        "colab": {
          "base_uri": "https://localhost:8080/"
        }
      },
      "outputs": [
        {
          "output_type": "execute_result",
          "data": {
            "text/plain": [
              "(9, 8)"
            ]
          },
          "metadata": {},
          "execution_count": 37
        }
      ],
      "source": [
        "X.shape"
      ]
    },
    {
      "cell_type": "code",
      "execution_count": 38,
      "metadata": {
        "id": "e4Zfa_R5g9gG",
        "outputId": "f78cb936-b97a-4de4-8b8e-2b47e2a0bd17",
        "colab": {
          "base_uri": "https://localhost:8080/"
        }
      },
      "outputs": [
        {
          "output_type": "execute_result",
          "data": {
            "text/plain": [
              "(8, 9)"
            ]
          },
          "metadata": {},
          "execution_count": 38
        }
      ],
      "source": [
        "X.T.shape"
      ]
    },
    {
      "cell_type": "code",
      "execution_count": 39,
      "metadata": {
        "id": "NK4w8ebcg9gG",
        "outputId": "96983a82-f7b5-494b-8cb8-aa2a19c9313a",
        "colab": {
          "base_uri": "https://localhost:8080/"
        }
      },
      "outputs": [
        {
          "output_type": "execute_result",
          "data": {
            "text/plain": [
              "array([[-0.94373862, -0.11465658,  0.95708482,  0.13131058, -0.91248098,\n",
              "         0.16723217, -0.35371312,  0.17652255,  1.00215451],\n",
              "       [-2.1589863 , -0.98659137,  0.92538185, -0.23179965, -0.32490175,\n",
              "        -0.95597022, -0.09795753,  0.57691774,  1.67992652],\n",
              "       [-0.64178438,  0.55511899,  0.22164299, -1.30001564, -1.32682069,\n",
              "        -2.09292199, -1.29432301,  0.81201818, -0.60545251],\n",
              "       [-0.25605387, -0.263174  , -0.54467275, -1.08574641,  0.08156434,\n",
              "        -0.28509409, -0.96159394, -0.03309556, -0.67020124],\n",
              "       [-1.21779542,  1.13962327,  1.13500247, -1.4108023 ,  1.93966177,\n",
              "         0.11820098, -1.22362584, -0.67089777,  1.44604994],\n",
              "       [ 1.41967235, -1.22813543, -0.89796198, -1.4303215 , -1.04799035,\n",
              "        -0.78744563, -0.13549461, -1.76115264,  1.06887832],\n",
              "       [ 0.86273184,  1.06475147, -0.18759275, -1.34528703, -0.73067849,\n",
              "        -0.40504954,  0.30644945,  0.41736817,  0.37658383],\n",
              "       [-0.84332008,  0.86675172, -2.48777183, -1.24396208,  1.90481051,\n",
              "        -1.83800392, -0.55976061,  0.95510645, -1.59539222]])"
            ]
          },
          "metadata": {},
          "execution_count": 39
        }
      ],
      "source": [
        "X.T"
      ]
    },
    {
      "cell_type": "markdown",
      "metadata": {
        "id": "hgrj5CKDg9gH"
      },
      "source": [
        "Para multiplicar matrizes, do ponto de visto de multiplicação matricial como definido na álgebra linear, fazemos uso de `@`."
      ]
    },
    {
      "cell_type": "code",
      "execution_count": 40,
      "metadata": {
        "id": "0fG5LeSzg9gH",
        "outputId": "1f696521-82b9-4dc3-eb32-0bac58785b28",
        "colab": {
          "base_uri": "https://localhost:8080/"
        }
      },
      "outputs": [
        {
          "output_type": "execute_result",
          "data": {
            "text/plain": [
              "array([[ 1.09833054e+01, -9.94368946e-01, -3.62477300e+00,\n",
              "         1.06478565e+00, -3.69340880e+00,  3.26102432e+00,\n",
              "         3.65640688e+00, -4.05344209e+00, -2.58575151e+00],\n",
              "       [-9.94368946e-01,  6.05593837e+00, -7.16053896e-01,\n",
              "        -2.58404446e+00,  4.03772280e+00, -1.08538938e+00,\n",
              "        -1.71518489e+00,  2.54065184e+00, -2.57863920e+00],\n",
              "       [-3.62477300e+00, -7.16053896e-01,  1.04369030e+01,\n",
              "         3.24457946e+00, -2.97157382e+00,  4.45659274e+00,\n",
              "        -1.24385526e-01, -7.33584016e-01,  7.32435201e+00],\n",
              "       [ 1.06478565e+00, -2.58404446e+00,  3.24457946e+00,\n",
              "         1.03332811e+01, -1.03223273e+00,  7.06478141e+00,\n",
              "         4.90710109e+00,  5.85669405e-01, -8.33982697e-01],\n",
              "       [-3.69340880e+00,  4.03772280e+00, -2.97157382e+00,\n",
              "        -1.03223273e+00,  1.17280543e+01,  7.61096070e-01,\n",
              "        -1.52809130e+00,  6.30074084e-01, -2.34100357e+00],\n",
              "       [ 3.26102432e+00, -1.08538938e+00,  4.45659274e+00,\n",
              "         7.06478141e+00,  7.61096070e-01,  9.57981239e+00,\n",
              "         3.88432996e+00, -2.82908431e+00,  2.12891104e+00],\n",
              "       [ 3.65640688e+00, -1.71518489e+00, -1.24385526e-01,\n",
              "         4.90710109e+00, -1.52809130e+00,  3.88432996e+00,\n",
              "         4.65750580e+00, -4.85315293e-01,  3.26623655e-03],\n",
              "       [-4.05344209e+00,  2.54065184e+00, -7.33584016e-01,\n",
              "         5.85669405e-01,  6.30074084e-01, -2.82908431e+00,\n",
              "        -4.85315293e-01,  5.66265008e+00, -3.54258033e+00],\n",
              "       [-2.58575151e+00, -2.57863920e+00,  7.32435201e+00,\n",
              "        -8.33982697e-01, -2.34100357e+00,  2.12891104e+00,\n",
              "         3.26623655e-03, -3.54258033e+00,  1.05628622e+01]])"
            ]
          },
          "metadata": {},
          "execution_count": 40
        }
      ],
      "source": [
        "X @ X.T"
      ]
    },
    {
      "cell_type": "markdown",
      "metadata": {
        "id": "qBZEsnSPg9gH"
      },
      "source": [
        "O uso de `*` realiza uma operação ponto a ponto"
      ]
    },
    {
      "cell_type": "code",
      "execution_count": 41,
      "metadata": {
        "id": "nhMOj5mxg9gH",
        "outputId": "04157932-6dbc-4148-b126-838de2136544",
        "colab": {
          "base_uri": "https://localhost:8080/"
        }
      },
      "outputs": [
        {
          "output_type": "execute_result",
          "data": {
            "text/plain": [
              "array([[8.90642576e-01, 4.66122182e+00, 4.11887196e-01, 6.55635820e-02,\n",
              "        1.48302569e+00, 2.01546957e+00, 7.44306227e-01, 7.11188754e-01],\n",
              "       [1.31461302e-02, 9.73362522e-01, 3.08157098e-01, 6.92605561e-02,\n",
              "        1.29874120e+00, 1.50831663e+00, 1.13369569e+00, 7.51258544e-01],\n",
              "       [9.16011356e-01, 8.56331570e-01, 4.91256163e-02, 2.96668403e-01,\n",
              "        1.28823060e+00, 8.06335721e-01, 3.51910410e-02, 6.18900868e+00],\n",
              "       [1.72424675e-02, 5.37310784e-02, 1.69004068e+00, 1.17884527e+00,\n",
              "        1.99036312e+00, 2.04581961e+00, 1.80979720e+00, 1.54744166e+00],\n",
              "       [8.32621544e-01, 1.05561147e-01, 1.76045314e+00, 6.65274120e-03,\n",
              "        3.76228780e+00, 1.09828378e+00, 5.33891050e-01, 3.62830309e+00],\n",
              "       [2.79665975e-02, 9.13879065e-01, 4.38032247e+00, 8.12786425e-02,\n",
              "        1.39714728e-02, 6.20070619e-01, 1.64065132e-01, 3.37825840e+00],\n",
              "       [1.25112971e-01, 9.59567678e-03, 1.67527205e+00, 9.24662903e-01,\n",
              "        1.49726019e+00, 1.83587906e-02, 9.39112649e-02, 3.13331945e-01],\n",
              "       [3.11602121e-02, 3.32834079e-01, 6.59373531e-01, 1.09531600e-03,\n",
              "        4.50103816e-01, 3.10165861e+00, 1.74196185e-01, 9.12228329e-01],\n",
              "       [1.00431367e+00, 2.82215311e+00, 3.66572741e-01, 4.49169704e-01,\n",
              "        2.09106042e+00, 1.14250087e+00, 1.41815380e-01, 2.54527635e+00]])"
            ]
          },
          "metadata": {},
          "execution_count": 41
        }
      ],
      "source": [
        "X * X"
      ]
    },
    {
      "cell_type": "markdown",
      "metadata": {
        "id": "QLZF0Pyug9gH"
      },
      "source": [
        "Observe a diferença de tamanhos"
      ]
    },
    {
      "cell_type": "code",
      "execution_count": 42,
      "metadata": {
        "id": "uuttFf2Ag9gI",
        "outputId": "c9e31626-87b2-40c6-9a33-91a931cc5694",
        "colab": {
          "base_uri": "https://localhost:8080/"
        }
      },
      "outputs": [
        {
          "output_type": "execute_result",
          "data": {
            "text/plain": [
              "(9, 8)"
            ]
          },
          "metadata": {},
          "execution_count": 42
        }
      ],
      "source": [
        "(X * X).shape"
      ]
    },
    {
      "cell_type": "code",
      "execution_count": 43,
      "metadata": {
        "id": "OKf9wGHwg9gI",
        "outputId": "e88213ab-3e19-4bec-ee5d-53fb8f8aa6d3",
        "colab": {
          "base_uri": "https://localhost:8080/"
        }
      },
      "outputs": [
        {
          "output_type": "execute_result",
          "data": {
            "text/plain": [
              "(9, 9)"
            ]
          },
          "metadata": {},
          "execution_count": 43
        }
      ],
      "source": [
        "(X @ X.T).shape"
      ]
    },
    {
      "cell_type": "markdown",
      "metadata": {
        "id": "KCcBoCQrg9gI"
      },
      "source": [
        "**Pense:** Para o nosso `X` de tamanho `(9, 8)`, qual o motivo de `X * X.T` não funcionar? Qual o motivo de `X @ X` não funcionar?"
      ]
    },
    {
      "cell_type": "markdown",
      "source": [
        "X * X.T não teria elementos suficientes para que todos elementos fossem multiplicados, enquanto X @ X viola o pressuposto que para uma multiplicação matricial algébrica A @ B, o número de colunas de A tem que ser igual o número de linhas de B"
      ],
      "metadata": {
        "id": "BPt6dxobLbdv"
      }
    },
    {
      "cell_type": "markdown",
      "metadata": {
        "id": "hTgr55vEg9gI"
      },
      "source": [
        "## Correção Automática\n",
        "\n",
        "Nossa correção automática depende das funções abaixo. Tais funções comparam valores que serão computados pelo seu código com uma saída esperada. Normalmente, vocês não fazer uso de tais funções em notebooks como este. Porém, elas são chave em ambientes de testes automáticos (fora do nosso escopo).\n",
        "\n",
        "Observe como algumas funções comparam valores e outras comparam vetores. Além do mais, temos funções para comparar dentro de algumas casas decimais."
      ]
    },
    {
      "cell_type": "code",
      "execution_count": 44,
      "metadata": {
        "id": "Y-xLmNYEg9gJ"
      },
      "outputs": [],
      "source": [
        "from numpy.testing import assert_almost_equal\n",
        "from numpy.testing import assert_equal\n",
        "\n",
        "from numpy.testing import assert_array_almost_equal\n",
        "from numpy.testing import assert_array_equal"
      ]
    },
    {
      "cell_type": "code",
      "execution_count": 45,
      "metadata": {
        "id": "YxZiqGWkg9gJ"
      },
      "outputs": [],
      "source": [
        "# caso você mude um dos valores vamos receber um erro!\n",
        "assert_array_equal(2, 2)\n",
        "\n",
        "# caso você mude um dos valores vamos receber um erro!\n",
        "assert_array_equal([1, 2], [1, 2])\n",
        "\n",
        "# caso você mude um dos valores vamos receber um erro!\n",
        "assert_almost_equal(3.1415, 3.14, 1)"
      ]
    },
    {
      "cell_type": "markdown",
      "metadata": {
        "id": "5ujZZx27g9gJ"
      },
      "source": [
        "Caso você mude um dos valores abaixo vamos receber um erro! Como o abaixo.\n",
        "\n",
        "```\n",
        "-----------------------------------------------------------------------\n",
        "AssertionError                        Traceback (most recent call last)\n",
        "<ipython-input-10-396672d880f2> in <module>\n",
        "----> 1 assert_equal(2, 3) # caso você mude um dos valores vamos receber um erro!\n",
        "\n",
        "~/miniconda3/lib/python3.7/site-packages/numpy/testing/_private/utils.py in assert_equal(actual, desired, err_msg, verbose)\n",
        "    413         # Explicitly use __eq__ for comparison, gh-2552\n",
        "    414         if not (desired == actual):\n",
        "--> 415             raise AssertionError(msg)\n",
        "    416 \n",
        "    417     except (DeprecationWarning, FutureWarning) as e:\n",
        "\n",
        "AssertionError: \n",
        "Items are not equal:\n",
        " ACTUAL: 2\n",
        " DESIRED: 3\n",
        " ```"
      ]
    },
    {
      "cell_type": "markdown",
      "metadata": {
        "id": "LTPZKLnPg9gJ"
      },
      "source": [
        "É essencial que todo seu código execute sem erros! Portanto, antes de submeter clique em `Kernel` no menu acima. Depois clique em `Restart & Execute All.`\n",
        "\n",
        "**Garanta que o notebook executa até o fim!** Isto é, sem erros como o acima."
      ]
    },
    {
      "cell_type": "markdown",
      "metadata": {
        "id": "uSVxhyF0g9gK"
      },
      "source": [
        "## Funções em Python"
      ]
    },
    {
      "cell_type": "markdown",
      "metadata": {
        "id": "bcMx6Chkg9gK"
      },
      "source": [
        "Para criar uma função em Python fazemos uso da palavra-chave: \n",
        "```python\n",
        "def\n",
        "```\n",
        "\n",
        "Todos nossos exercícios farão uso de funções. **Mantenha a assinatura das funções exatamente como requisitado, a correção automática depende disso.** Abaixo, temos um exempo de uma função que imprime algo na tela!"
      ]
    },
    {
      "cell_type": "code",
      "execution_count": 46,
      "metadata": {
        "id": "QSIYTwcVg9gK"
      },
      "outputs": [],
      "source": [
        "def print_something(txt):\n",
        "    print(f'Você passou o argumento: {txt}')"
      ]
    },
    {
      "cell_type": "code",
      "execution_count": 47,
      "metadata": {
        "id": "3HdO6nIDg9gK",
        "outputId": "d4a36305-1be4-450b-c46d-458b7a59dd42",
        "colab": {
          "base_uri": "https://localhost:8080/"
        }
      },
      "outputs": [
        {
          "output_type": "stream",
          "name": "stdout",
          "text": [
            "Você passou o argumento: DCC 212\n"
          ]
        }
      ],
      "source": [
        "print_something('DCC 212')"
      ]
    },
    {
      "cell_type": "markdown",
      "metadata": {
        "id": "81PLXR1Qg9gL"
      },
      "source": [
        "Podemos também dizer o tipo do argumento, porém faremos pouco uso disto em ICD."
      ]
    },
    {
      "cell_type": "code",
      "execution_count": 48,
      "metadata": {
        "id": "BbPxSloZg9gL"
      },
      "outputs": [],
      "source": [
        "def print_something(txt: str):\n",
        "    print(f'Você passou o argumento: {txt}')"
      ]
    },
    {
      "cell_type": "code",
      "execution_count": 49,
      "metadata": {
        "id": "vI08SVNgg9gL",
        "outputId": "724fedf2-59c0-488a-f8ec-5c5a8bff8b6b",
        "colab": {
          "base_uri": "https://localhost:8080/"
        }
      },
      "outputs": [
        {
          "output_type": "stream",
          "name": "stdout",
          "text": [
            "Você passou o argumento: DCC 212\n"
          ]
        }
      ],
      "source": [
        "print_something('DCC 212')"
      ]
    },
    {
      "cell_type": "markdown",
      "metadata": {
        "id": "170UKrCcg9gL"
      },
      "source": [
        "Abaixo temos uma função que soma, a soma, dois vetores"
      ]
    },
    {
      "cell_type": "code",
      "execution_count": 50,
      "metadata": {
        "id": "sDEaUQNig9gL"
      },
      "outputs": [],
      "source": [
        "def sum_of_sum_vectors(array_1, array_2):\n",
        "    return (array_1 + array_2).sum()"
      ]
    },
    {
      "cell_type": "code",
      "execution_count": 51,
      "metadata": {
        "id": "N8DXD3S9g9gL"
      },
      "outputs": [],
      "source": [
        "x = np.array([1, 2])\n",
        "y = np.array([1, 2])"
      ]
    },
    {
      "cell_type": "code",
      "execution_count": 52,
      "metadata": {
        "id": "qbmewhLag9gM",
        "outputId": "0f2198e7-6d73-46a8-c2a6-63047bbce054",
        "colab": {
          "base_uri": "https://localhost:8080/"
        }
      },
      "outputs": [
        {
          "output_type": "execute_result",
          "data": {
            "text/plain": [
              "6"
            ]
          },
          "metadata": {},
          "execution_count": 52
        }
      ],
      "source": [
        "sum_of_sum_vectors(x, y)"
      ]
    },
    {
      "cell_type": "markdown",
      "metadata": {
        "id": "qPnv__Chg9gM"
      },
      "source": [
        "Abaixo temos um teste, tais testes vão avaliar o seu código. Nem todos estão aqui no notebook!"
      ]
    },
    {
      "cell_type": "code",
      "execution_count": 53,
      "metadata": {
        "id": "nuUnbHzIg9gM"
      },
      "outputs": [],
      "source": [
        "assert_equal(6, sum_of_sum_vectors(x, y))"
      ]
    },
    {
      "cell_type": "markdown",
      "metadata": {
        "id": "3Gsl8JKPg9gM"
      },
      "source": [
        "## Exercício 01\n",
        "\n",
        "Inicialmente, crie uma função que recebe duas listas de numéros, converte as duas para um vetor numpy usando `np.array` e retorna o produto interno das duas listas. \n",
        "\n",
        "__Dicas:__  \n",
        "1. Tente fazer um código sem nenhum **for**! Ou seja, numpy permite operações em vetores e matrizes, onde: `np.array([1, 2]) + np.array([2, 2]) = np.array([3, 4])`.\n",
        "\n",
        "__Funções:__\n",
        "1. `np.sum(array)` soma os elementos do array. `array.sum()` tem o mesmo efeito!"
      ]
    },
    {
      "cell_type": "code",
      "execution_count": 64,
      "metadata": {
        "id": "R01TpB25g9gM"
      },
      "outputs": [],
      "source": [
        "def inner(array_1, array_2):\n",
        "    return np.sum(np.array(array_1) * (np.array(array_2)))"
      ]
    },
    {
      "cell_type": "code",
      "execution_count": 65,
      "metadata": {
        "id": "FHE-9EnJg9gM"
      },
      "outputs": [],
      "source": [
        "x1 = np.array([2, 4, 8])\n",
        "x2 = np.array([10, 100, 1000])\n",
        "assert_equal(20 + 400 + 8000, inner(x1, x2))"
      ]
    },
    {
      "cell_type": "markdown",
      "metadata": {
        "id": "yj9_PKAmg9gN"
      },
      "source": [
        "## Exercício 02\n",
        "\n",
        "Implemente uma função utilizando numpy que recebe duas matrizes, multiplica as duas e retorne o valor médio das células da multiplicação. Por exemplo, ao multiplicar:\n",
        "\n",
        "```\n",
        "[1 2]\n",
        "[3 4] \n",
        "\n",
        "com \n",
        "\n",
        "[2 1]\n",
        "[1 2]\n",
        "\n",
        "temos\n",
        "\n",
        "[4  5 ]\n",
        "[10 11]\n",
        "\n",
        "onde a média de [4, 5, 10, 11] é\n",
        "\n",
        "7.5, sua resposta final!\n",
        "```\n",
        "\n",
        "\n",
        "__Dicas:__  \n",
        "1. Use o operador @ para multiplicar matrizes!"
      ]
    },
    {
      "cell_type": "code",
      "execution_count": 67,
      "metadata": {
        "id": "9_T9SYXNg9gN"
      },
      "outputs": [],
      "source": [
        "def medmult(X_1, X_2):\n",
        "    return np.mean(np.array(X_1) @ (np.array(X_2)))"
      ]
    },
    {
      "cell_type": "code",
      "execution_count": 68,
      "metadata": {
        "id": "2MZb4VYRg9gN"
      },
      "outputs": [],
      "source": [
        "X = np.array([1, 2, 3, 4]).reshape(2, 2)\n",
        "Y = np.array([2, 1, 1, 2]).reshape(2, 2)\n",
        "assert_equal(7.5, medmult(X, Y))"
      ]
    }
  ],
  "metadata": {
    "kernelspec": {
      "display_name": "Python 3",
      "language": "python",
      "name": "python3"
    },
    "language_info": {
      "codemirror_mode": {
        "name": "ipython",
        "version": 3
      },
      "file_extension": ".py",
      "mimetype": "text/x-python",
      "name": "python",
      "nbconvert_exporter": "python",
      "pygments_lexer": "ipython3",
      "version": "3.7.3"
    },
    "colab": {
      "name": "dcc212l1.ipynb",
      "provenance": [],
      "include_colab_link": true
    }
  },
  "nbformat": 4,
  "nbformat_minor": 0
}