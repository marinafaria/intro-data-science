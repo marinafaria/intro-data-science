{
  "cells": [
    {
      "cell_type": "markdown",
      "metadata": {
        "id": "Xh2WK4sWg9fq"
      },
      "source": [
        "# Lista 01 - Introdução e Revisão Numpy\n",
        "\n",
        "[NumPy](http://numpy.org) é um pacote incrivelmente poderoso em Python, onipresente em qualquer projeto de ciência de dados. Possui forte integração com o [Pandas](http://pandas.pydata.org), outra ferramenta que iremos abordar na matéria. NumPy adiciona suporte para matrizes multidimensionais e funções matemáticas que permitem que você execute facilmente cálculos de álgebra linear. Este notebook será uma coleção de exemplos de álgebra linear computados usando NumPy. \n",
        "\n",
        "## Numpy \n",
        "\n",
        "Para fazer uso de Numpy precisamos importar a biblioteca"
      ]
    },
    {
      "cell_type": "code",
      "execution_count": null,
      "metadata": {
        "id": "FMirpW4og9fw"
      },
      "outputs": [],
      "source": [
        "# -*- coding: utf8\n",
        "\n",
        "import numpy as np"
      ]
    },
    {
      "cell_type": "markdown",
      "metadata": {
        "id": "na7PKB_Mg9fy"
      },
      "source": [
        "Quando pensamos no lado prático de ciência de dados, um aspecto chave que ajuda na implementação de novos algoritmos é a vetorização. De forma simples, vetorização consiste do uso de tipos como **escalar**, **vetor** e **matriz** para realizar uma computação mais eficaz (em tempo de execução).\n",
        "\n",
        "Uma matriz é uma coleção de valores, normalmente representada por uma grade 𝑚 × 𝑛, onde 𝑚 é o número de linhas e 𝑛 é o número de colunas. Os comprimentos das arestas 𝑚 e 𝑛 não precisam ser necessariamente diferentes. Se tivermos 𝑚 = 𝑛, chamamos isso de matriz quadrada. Um caso particularmente interessante de uma matriz é quando 𝑚 = 1 ou 𝑛 = 1. Nesse caso, temos um caso especial de uma matriz que chamamos de vetor. Embora haja um objeto de matriz em NumPy, faremos tudo usando matrizes NumPy porque elas podem ter dimensões maiores que 2. \n",
        "\n",
        "1. **Escalar:** Um vetor de zero dimensões"
      ]
    },
    {
      "cell_type": "code",
      "execution_count": null,
      "metadata": {
        "id": "4N_SfspLg9fz",
        "outputId": "cc2ec05b-f377-4e2d-c0ef-9cb600f2065f"
      },
      "outputs": [
        {
          "data": {
            "text/plain": [
              "1"
            ]
          },
          "execution_count": 2,
          "metadata": {},
          "output_type": "execute_result"
        }
      ],
      "source": [
        "1"
      ]
    },
    {
      "cell_type": "markdown",
      "metadata": {
        "id": "EMML5Hvzg9f0"
      },
      "source": [
        "2. **Vetor:** Representa uma dimensão"
      ]
    },
    {
      "cell_type": "markdown",
      "metadata": {
        "id": "8iS-MVNkg9f0"
      },
      "source": [
        "Abaixo vamos criar um vetor simples. Inicialmente, vamos criar uma lista."
      ]
    },
    {
      "cell_type": "code",
      "execution_count": null,
      "metadata": {
        "id": "e0dAkKG1g9f1"
      },
      "outputs": [],
      "source": [
        "data_list = [3.5, 5, 2, 8, 4.2]"
      ]
    },
    {
      "cell_type": "markdown",
      "metadata": {
        "id": "Ei6LBsW3g9f2"
      },
      "source": [
        "Observe o tipo da mesma."
      ]
    },
    {
      "cell_type": "code",
      "execution_count": null,
      "metadata": {
        "id": "UC2uOjIog9f2",
        "outputId": "56748da0-1a0d-418e-b692-69cce2e50453"
      },
      "outputs": [
        {
          "data": {
            "text/plain": [
              "list"
            ]
          },
          "execution_count": 4,
          "metadata": {},
          "output_type": "execute_result"
        }
      ],
      "source": [
        "type(data_list)"
      ]
    },
    {
      "cell_type": "markdown",
      "metadata": {
        "id": "YDGeRayNg9f3"
      },
      "source": [
        "Embora vetores e listas sejam parecidos, vetores Numpy são otimizados para operações de Álgebra Linear. Ciência de Dados faz bastante uso de tais operações, sendo este um dos motivos da dependência em Numpy.\n",
        "\n",
        "Abaixo criamos um vetor."
      ]
    },
    {
      "cell_type": "code",
      "execution_count": null,
      "metadata": {
        "id": "MzUzLv4Pg9f4",
        "outputId": "7c22b30b-7165-4e85-ba9f-a26aca014b78"
      },
      "outputs": [
        {
          "name": "stdout",
          "output_type": "stream",
          "text": [
            "[3.5 5.  2.  8.  4.2]\n",
            "<class 'numpy.ndarray'>\n"
          ]
        }
      ],
      "source": [
        "data = np.array(data_list)\n",
        "print(data)\n",
        "print(type(data))"
      ]
    },
    {
      "cell_type": "markdown",
      "metadata": {
        "id": "EW9vxfwHg9f4"
      },
      "source": [
        "Observe como podemos somar o mesmo com um número. Não é possível fazer tal operação com listas."
      ]
    },
    {
      "cell_type": "code",
      "execution_count": 1,
      "metadata": {
        "id": "5tCENKjVg9f5",
        "outputId": "dfd2abb5-20d6-40ad-bffd-955b5029b8a4",
        "colab": {
          "base_uri": "https://localhost:8080/",
          "height": 165
        }
      },
      "outputs": [
        {
          "output_type": "error",
          "ename": "NameError",
          "evalue": "ignored",
          "traceback": [
            "\u001b[0;31m---------------------------------------------------------------------------\u001b[0m",
            "\u001b[0;31mNameError\u001b[0m                                 Traceback (most recent call last)",
            "\u001b[0;32m<ipython-input-1-af787231be7a>\u001b[0m in \u001b[0;36m<module>\u001b[0;34m()\u001b[0m\n\u001b[0;32m----> 1\u001b[0;31m \u001b[0mdata\u001b[0m \u001b[0;34m+\u001b[0m \u001b[0;36m7\u001b[0m\u001b[0;34m\u001b[0m\u001b[0;34m\u001b[0m\u001b[0m\n\u001b[0m",
            "\u001b[0;31mNameError\u001b[0m: name 'data' is not defined"
          ]
        }
      ],
      "source": [
        "data + 7"
      ]
    },
    {
      "cell_type": "markdown",
      "metadata": {
        "id": "Vzzutm-Zg9f5"
      },
      "source": [
        "3. **Matrizes:** Representam duas dimensões."
      ]
    },
    {
      "cell_type": "code",
      "execution_count": null,
      "metadata": {
        "id": "uZK1eEeGg9f6",
        "outputId": "d008ed68-f9ba-44ec-a588-85cf365ded11"
      },
      "outputs": [
        {
          "data": {
            "text/plain": [
              "array([[2, 4],\n",
              "       [1, 3]])"
            ]
          },
          "execution_count": 7,
          "metadata": {},
          "output_type": "execute_result"
        }
      ],
      "source": [
        "X = np.array([[2, 4],\n",
        "              [1, 3]])\n",
        "X"
      ]
    },
    {
      "cell_type": "markdown",
      "metadata": {
        "id": "vNec1Bg1g9f6"
      },
      "source": [
        "Podemos indexar as matrizes e os vetores."
      ]
    },
    {
      "cell_type": "code",
      "execution_count": null,
      "metadata": {
        "id": "7H-cvjMFg9f6",
        "outputId": "58a8d3d6-af44-40f9-fd4b-6d835e7e7550"
      },
      "outputs": [
        {
          "data": {
            "text/plain": [
              "3.5"
            ]
          },
          "execution_count": 8,
          "metadata": {},
          "output_type": "execute_result"
        }
      ],
      "source": [
        "data[0]"
      ]
    },
    {
      "cell_type": "code",
      "execution_count": null,
      "metadata": {
        "id": "wtWAPmF-g9f7",
        "outputId": "7670b110-6d28-4cc3-85ce-1f85c5bc80bc"
      },
      "outputs": [
        {
          "data": {
            "text/plain": [
              "4"
            ]
          },
          "execution_count": 9,
          "metadata": {},
          "output_type": "execute_result"
        }
      ],
      "source": [
        "X[0, 1] # aqui é primeira linha, segunda coluna"
      ]
    },
    {
      "cell_type": "markdown",
      "metadata": {
        "id": "hjdOh626g9f7"
      },
      "source": [
        "Podemos também criar vetores/matrizes de números aleatórios"
      ]
    },
    {
      "cell_type": "code",
      "execution_count": null,
      "metadata": {
        "id": "dO16MyI_g9f7",
        "outputId": "4bf95422-16e6-4caf-cf48-bd5ca7c9a36f"
      },
      "outputs": [
        {
          "name": "stdout",
          "output_type": "stream",
          "text": [
            "[[-8.28699627e-01 -2.30961904e+00 -9.23109737e-01]\n",
            " [-1.61505056e+00 -1.82539186e-02 -6.32265265e-01]\n",
            " [-3.71359726e-02 -8.50479988e-01  1.73683801e+00]\n",
            " [-1.42512347e-04 -6.58202904e-01  2.88636778e-01]]\n"
          ]
        }
      ],
      "source": [
        "X = np.random.randn(4, 3) # Gera números aleatórios de uma normal\n",
        "print(X)"
      ]
    },
    {
      "cell_type": "markdown",
      "metadata": {
        "id": "jO1nujlfg9f8"
      },
      "source": [
        "### Indexando\n",
        "\n",
        "Pegando a primeira linha"
      ]
    },
    {
      "cell_type": "code",
      "execution_count": null,
      "metadata": {
        "id": "Yh0-6Gcpg9f8",
        "outputId": "ae6812f5-d1b4-4a97-d02d-4e5223a57da2"
      },
      "outputs": [
        {
          "data": {
            "text/plain": [
              "array([-0.82869963, -2.30961904, -0.92310974])"
            ]
          },
          "execution_count": 11,
          "metadata": {},
          "output_type": "execute_result"
        }
      ],
      "source": [
        "X[0] # observe que 0 é a linha 1, compare com o X[0, 1] de antes."
      ]
    },
    {
      "cell_type": "code",
      "execution_count": null,
      "metadata": {
        "id": "_vEaO1y6g9f9",
        "outputId": "eb49ed96-8d4e-4e30-c93f-601be7f596e0"
      },
      "outputs": [
        {
          "data": {
            "text/plain": [
              "array([-1.61505056, -0.01825392, -0.63226527])"
            ]
          },
          "execution_count": 12,
          "metadata": {},
          "output_type": "execute_result"
        }
      ],
      "source": [
        "X[1] # segunda"
      ]
    },
    {
      "cell_type": "code",
      "execution_count": null,
      "metadata": {
        "id": "QN-aseqVg9f9",
        "outputId": "998ad778-20d0-41b7-ce07-6a08b8fe4ef1"
      },
      "outputs": [
        {
          "data": {
            "text/plain": [
              "array([-0.03713597, -0.85047999,  1.73683801])"
            ]
          },
          "execution_count": 13,
          "metadata": {},
          "output_type": "execute_result"
        }
      ],
      "source": [
        "X[2] # terceira"
      ]
    },
    {
      "cell_type": "markdown",
      "metadata": {
        "id": "tPUgMBPVg9f9"
      },
      "source": [
        "Observe como todos os tipos retornados são `array`. Array é o nome genérico de Numpy para vetores e matrizes. "
      ]
    },
    {
      "cell_type": "markdown",
      "metadata": {
        "id": "lIne7uicg9f-"
      },
      "source": [
        "`X[:, c]` pega uma coluna"
      ]
    },
    {
      "cell_type": "code",
      "execution_count": null,
      "metadata": {
        "id": "GXApcAYYg9f-",
        "outputId": "17bddf6f-c8a4-4301-e21c-2ecef7e00e52"
      },
      "outputs": [
        {
          "data": {
            "text/plain": [
              "array([-8.28699627e-01, -1.61505056e+00, -3.71359726e-02, -1.42512347e-04])"
            ]
          },
          "execution_count": 14,
          "metadata": {},
          "output_type": "execute_result"
        }
      ],
      "source": [
        "X[:, 0]"
      ]
    },
    {
      "cell_type": "code",
      "execution_count": null,
      "metadata": {
        "id": "wamvIPwpg9f-",
        "outputId": "7c77353d-cdca-4620-fa7e-247a75938def"
      },
      "outputs": [
        {
          "data": {
            "text/plain": [
              "array([-2.30961904, -0.01825392, -0.85047999, -0.6582029 ])"
            ]
          },
          "execution_count": 15,
          "metadata": {},
          "output_type": "execute_result"
        }
      ],
      "source": [
        "X[:, 1]"
      ]
    },
    {
      "cell_type": "markdown",
      "metadata": {
        "id": "elkm7oRJg9f-"
      },
      "source": [
        "`X[um_vetor]` pega as linhas da matriz. `X[:, um_vetor]` pega as colunas"
      ]
    },
    {
      "cell_type": "code",
      "execution_count": null,
      "metadata": {
        "id": "13gWvO8Dg9f_",
        "outputId": "306844ff-a579-4bb9-f0bc-2956675ad13e"
      },
      "outputs": [
        {
          "data": {
            "text/plain": [
              "array([[-0.82869963, -2.30961904, -0.92310974],\n",
              "       [-0.82869963, -2.30961904, -0.92310974],\n",
              "       [-1.61505056, -0.01825392, -0.63226527]])"
            ]
          },
          "execution_count": 16,
          "metadata": {},
          "output_type": "execute_result"
        }
      ],
      "source": [
        "X[[0, 0, 1]] # observe que pego a primeira linha, indexada por 0, duas vezes"
      ]
    },
    {
      "cell_type": "markdown",
      "metadata": {
        "id": "_0pHkST1g9f_"
      },
      "source": [
        "Abaixo pego a segunda a primeira coluna"
      ]
    },
    {
      "cell_type": "code",
      "execution_count": null,
      "metadata": {
        "id": "v27Py_lJg9f_",
        "outputId": "1415155a-892c-43a3-dbae-8509ac1840a6"
      },
      "outputs": [
        {
          "data": {
            "text/plain": [
              "array([[-2.30961904e+00, -8.28699627e-01],\n",
              "       [-1.82539186e-02, -1.61505056e+00],\n",
              "       [-8.50479988e-01, -3.71359726e-02],\n",
              "       [-6.58202904e-01, -1.42512347e-04]])"
            ]
          },
          "execution_count": 17,
          "metadata": {},
          "output_type": "execute_result"
        }
      ],
      "source": [
        "X[:, [1, 0]]"
      ]
    },
    {
      "cell_type": "markdown",
      "metadata": {
        "id": "sqE0r52ng9f_"
      },
      "source": [
        "### Indexação Booleana\n",
        "\n",
        "`X[vetor_booleano]` retorna as linhas (ou colunas quando X[:, vetor_booleano]) onde o vetor é true"
      ]
    },
    {
      "cell_type": "code",
      "execution_count": null,
      "metadata": {
        "id": "IX6X5Xszg9gA",
        "outputId": "a6f75b3b-4f45-436a-9f3e-618669ff86c6"
      },
      "outputs": [
        {
          "data": {
            "text/plain": [
              "array([[-0.82869963, -2.30961904, -0.92310974],\n",
              "       [-0.03713597, -0.85047999,  1.73683801]])"
            ]
          },
          "execution_count": 18,
          "metadata": {},
          "output_type": "execute_result"
        }
      ],
      "source": [
        "X[[True, False, True, False]]"
      ]
    },
    {
      "cell_type": "code",
      "execution_count": null,
      "metadata": {
        "id": "cdrXJoWrg9gA",
        "outputId": "dc4e705c-2bec-4cfa-bd07-4361ae9d19a5"
      },
      "outputs": [
        {
          "data": {
            "text/plain": [
              "array([[-2.30961904, -0.92310974],\n",
              "       [-0.01825392, -0.63226527],\n",
              "       [-0.85047999,  1.73683801],\n",
              "       [-0.6582029 ,  0.28863678]])"
            ]
          },
          "execution_count": 19,
          "metadata": {},
          "output_type": "execute_result"
        }
      ],
      "source": [
        "X[:, [False, True, True]]"
      ]
    },
    {
      "cell_type": "markdown",
      "metadata": {
        "id": "ozO-bNmQg9gA"
      },
      "source": [
        "### Reshape, Flatten e Ravel\n",
        "\n",
        "Todo vetor ou matriz pode ser redimensionado. Observe como uma matriz abaixo de 9x8=72 elementos. Podemos redimensionar os mesmos para outros arrays de tamanho 72."
      ]
    },
    {
      "cell_type": "code",
      "execution_count": null,
      "metadata": {
        "id": "frHaY3eRg9gA"
      },
      "outputs": [],
      "source": [
        "X = np.random.randn(9, 8)"
      ]
    },
    {
      "cell_type": "markdown",
      "metadata": {
        "id": "lJsd2GQTg9gB"
      },
      "source": [
        "Criando uma matriz de 18x4."
      ]
    },
    {
      "cell_type": "code",
      "execution_count": null,
      "metadata": {
        "id": "JoQBZvfAg9gB",
        "outputId": "cfc6cbb3-8df1-45c6-874b-c353f2da2b5a"
      },
      "outputs": [
        {
          "data": {
            "text/plain": [
              "array([[-0.27317993, -0.29414633, -0.6022491 , -0.63745675],\n",
              "       [ 0.28478323, -0.61757506, -0.06574421,  1.79104517],\n",
              "       [-1.41989931,  2.01772199,  0.79909735,  2.00704578],\n",
              "       [ 0.40912025,  1.28484141, -0.04231897,  0.31686876],\n",
              "       [ 0.58579576,  0.59732797, -0.77674338, -0.8509191 ],\n",
              "       [ 1.48236667, -1.44625812, -0.90798637,  0.76169099],\n",
              "       [-0.00891063,  1.03867245,  2.24641729, -0.36329358],\n",
              "       [-0.00648919,  0.0955519 , -1.10820027, -1.5757523 ],\n",
              "       [-0.05259193, -0.66730637,  0.11442752, -1.20559619],\n",
              "       [ 0.94186158, -0.88679058, -1.3059159 , -2.86664027],\n",
              "       [ 1.50678901, -0.92955681, -1.45924939,  0.3378637 ],\n",
              "       [ 3.7549434 ,  0.31710889,  0.41401744,  0.16457517],\n",
              "       [ 0.08452597,  0.38747958,  0.03474171, -1.43348703],\n",
              "       [-1.7036983 ,  0.47424453,  1.65152842, -0.73665845],\n",
              "       [-0.8504203 , -0.14251315, -0.54545833,  0.16766592],\n",
              "       [ 0.51913773, -0.63864761, -2.2091628 ,  0.86677625],\n",
              "       [-0.45556057,  0.08022124,  0.11213436,  1.52079991],\n",
              "       [ 0.32564504, -0.82042081, -0.39942851,  0.24143379]])"
            ]
          },
          "execution_count": 21,
          "metadata": {},
          "output_type": "execute_result"
        }
      ],
      "source": [
        "X.reshape((18, 4))"
      ]
    },
    {
      "cell_type": "markdown",
      "metadata": {
        "id": "vEX6XC7mg9gB"
      },
      "source": [
        "Ou um vetor de 72"
      ]
    },
    {
      "cell_type": "code",
      "execution_count": null,
      "metadata": {
        "id": "OFVauZ5Jg9gB",
        "outputId": "03acc607-c2d6-436d-84f8-3f16ebb57784"
      },
      "outputs": [
        {
          "data": {
            "text/plain": [
              "array([-0.27317993, -0.29414633, -0.6022491 , -0.63745675,  0.28478323,\n",
              "       -0.61757506, -0.06574421,  1.79104517, -1.41989931,  2.01772199,\n",
              "        0.79909735,  2.00704578,  0.40912025,  1.28484141, -0.04231897,\n",
              "        0.31686876,  0.58579576,  0.59732797, -0.77674338, -0.8509191 ,\n",
              "        1.48236667, -1.44625812, -0.90798637,  0.76169099, -0.00891063,\n",
              "        1.03867245,  2.24641729, -0.36329358, -0.00648919,  0.0955519 ,\n",
              "       -1.10820027, -1.5757523 , -0.05259193, -0.66730637,  0.11442752,\n",
              "       -1.20559619,  0.94186158, -0.88679058, -1.3059159 , -2.86664027,\n",
              "        1.50678901, -0.92955681, -1.45924939,  0.3378637 ,  3.7549434 ,\n",
              "        0.31710889,  0.41401744,  0.16457517,  0.08452597,  0.38747958,\n",
              "        0.03474171, -1.43348703, -1.7036983 ,  0.47424453,  1.65152842,\n",
              "       -0.73665845, -0.8504203 , -0.14251315, -0.54545833,  0.16766592,\n",
              "        0.51913773, -0.63864761, -2.2091628 ,  0.86677625, -0.45556057,\n",
              "        0.08022124,  0.11213436,  1.52079991,  0.32564504, -0.82042081,\n",
              "       -0.39942851,  0.24143379])"
            ]
          },
          "execution_count": 22,
          "metadata": {},
          "output_type": "execute_result"
        }
      ],
      "source": [
        "X.reshape(72)"
      ]
    },
    {
      "cell_type": "markdown",
      "metadata": {
        "id": "BLL4-CCEg9gB"
      },
      "source": [
        "A chamada flatten e ravel faz a mesma coisa, criam uma visão de uma dimensão da matriz."
      ]
    },
    {
      "cell_type": "code",
      "execution_count": null,
      "metadata": {
        "id": "peHb5Z_pg9gB",
        "outputId": "44d3ded3-d6b6-40c7-9d61-f4cb78876073"
      },
      "outputs": [
        {
          "data": {
            "text/plain": [
              "array([-0.27317993, -0.29414633, -0.6022491 , -0.63745675,  0.28478323,\n",
              "       -0.61757506, -0.06574421,  1.79104517, -1.41989931,  2.01772199,\n",
              "        0.79909735,  2.00704578,  0.40912025,  1.28484141, -0.04231897,\n",
              "        0.31686876,  0.58579576,  0.59732797, -0.77674338, -0.8509191 ,\n",
              "        1.48236667, -1.44625812, -0.90798637,  0.76169099, -0.00891063,\n",
              "        1.03867245,  2.24641729, -0.36329358, -0.00648919,  0.0955519 ,\n",
              "       -1.10820027, -1.5757523 , -0.05259193, -0.66730637,  0.11442752,\n",
              "       -1.20559619,  0.94186158, -0.88679058, -1.3059159 , -2.86664027,\n",
              "        1.50678901, -0.92955681, -1.45924939,  0.3378637 ,  3.7549434 ,\n",
              "        0.31710889,  0.41401744,  0.16457517,  0.08452597,  0.38747958,\n",
              "        0.03474171, -1.43348703, -1.7036983 ,  0.47424453,  1.65152842,\n",
              "       -0.73665845, -0.8504203 , -0.14251315, -0.54545833,  0.16766592,\n",
              "        0.51913773, -0.63864761, -2.2091628 ,  0.86677625, -0.45556057,\n",
              "        0.08022124,  0.11213436,  1.52079991,  0.32564504, -0.82042081,\n",
              "       -0.39942851,  0.24143379])"
            ]
          },
          "execution_count": 23,
          "metadata": {},
          "output_type": "execute_result"
        }
      ],
      "source": [
        "X.flatten()"
      ]
    },
    {
      "cell_type": "code",
      "execution_count": null,
      "metadata": {
        "id": "4smM3BzBg9gC",
        "outputId": "c02c56c7-1638-4782-8825-06f58caae862"
      },
      "outputs": [
        {
          "data": {
            "text/plain": [
              "array([-0.27317993, -0.29414633, -0.6022491 , -0.63745675,  0.28478323,\n",
              "       -0.61757506, -0.06574421,  1.79104517, -1.41989931,  2.01772199,\n",
              "        0.79909735,  2.00704578,  0.40912025,  1.28484141, -0.04231897,\n",
              "        0.31686876,  0.58579576,  0.59732797, -0.77674338, -0.8509191 ,\n",
              "        1.48236667, -1.44625812, -0.90798637,  0.76169099, -0.00891063,\n",
              "        1.03867245,  2.24641729, -0.36329358, -0.00648919,  0.0955519 ,\n",
              "       -1.10820027, -1.5757523 , -0.05259193, -0.66730637,  0.11442752,\n",
              "       -1.20559619,  0.94186158, -0.88679058, -1.3059159 , -2.86664027,\n",
              "        1.50678901, -0.92955681, -1.45924939,  0.3378637 ,  3.7549434 ,\n",
              "        0.31710889,  0.41401744,  0.16457517,  0.08452597,  0.38747958,\n",
              "        0.03474171, -1.43348703, -1.7036983 ,  0.47424453,  1.65152842,\n",
              "       -0.73665845, -0.8504203 , -0.14251315, -0.54545833,  0.16766592,\n",
              "        0.51913773, -0.63864761, -2.2091628 ,  0.86677625, -0.45556057,\n",
              "        0.08022124,  0.11213436,  1.52079991,  0.32564504, -0.82042081,\n",
              "       -0.39942851,  0.24143379])"
            ]
          },
          "execution_count": 24,
          "metadata": {},
          "output_type": "execute_result"
        }
      ],
      "source": [
        "X.ravel()"
      ]
    },
    {
      "cell_type": "markdown",
      "metadata": {
        "id": "stmWEiBWg9gC"
      },
      "source": [
        "As funções incorporadas ao NumPy podem ser facilmente chamadas em matrizes. A maioria das funções são aplicadas a um elemento de array (como a multiplicação escalar). Por exemplo, se chamarmos `log()` em um array, o logaritmo será obtido de cada elemento. "
      ]
    },
    {
      "cell_type": "code",
      "execution_count": null,
      "metadata": {
        "id": "a0Yysx3qg9gC",
        "outputId": "d5d2690b-3695-41c9-f21f-6f305a80c148"
      },
      "outputs": [
        {
          "data": {
            "text/plain": [
              "array([1.25276297, 1.60943791, 0.69314718, 2.07944154, 1.43508453])"
            ]
          },
          "execution_count": 25,
          "metadata": {},
          "output_type": "execute_result"
        }
      ],
      "source": [
        "np.log(data)"
      ]
    },
    {
      "cell_type": "markdown",
      "metadata": {
        "id": "DWnTr-_hg9gC"
      },
      "source": [
        "Mean tira a média"
      ]
    },
    {
      "cell_type": "code",
      "execution_count": null,
      "metadata": {
        "id": "nRECjlbog9gD",
        "outputId": "ff1b2542-56b5-4ace-dbd5-a18667aa9a35"
      },
      "outputs": [
        {
          "data": {
            "text/plain": [
              "4.54"
            ]
          },
          "execution_count": 26,
          "metadata": {},
          "output_type": "execute_result"
        }
      ],
      "source": [
        "np.mean(data)"
      ]
    },
    {
      "cell_type": "markdown",
      "metadata": {
        "id": "b0bPLQwgg9gD"
      },
      "source": [
        "Algumas funções podem ser chamadas direto no vetor, nem todas serão assim. O importante é ler a [documentação](http://numpy.org) e aprender. Com um pouco de prática você vai se acostumando."
      ]
    },
    {
      "cell_type": "code",
      "execution_count": null,
      "metadata": {
        "id": "RSZHE8Pkg9gD",
        "outputId": "80bb833b-d051-4ac7-ed77-0ce3c0eb2f1d"
      },
      "outputs": [
        {
          "data": {
            "text/plain": [
              "4.54"
            ]
          },
          "execution_count": 27,
          "metadata": {},
          "output_type": "execute_result"
        }
      ],
      "source": [
        "data.mean()"
      ]
    },
    {
      "cell_type": "markdown",
      "metadata": {
        "id": "qiGiTiQ3g9gD"
      },
      "source": [
        "Abaixo temos a mediana,"
      ]
    },
    {
      "cell_type": "code",
      "execution_count": null,
      "metadata": {
        "id": "vCIU58E5g9gD",
        "outputId": "9abe2c15-c1e2-4f1f-fed6-b80ea705f164"
      },
      "outputs": [
        {
          "data": {
            "text/plain": [
              "4.2"
            ]
          },
          "execution_count": 28,
          "metadata": {},
          "output_type": "execute_result"
        }
      ],
      "source": [
        "np.median(data) # por exemplo, não existe data.median(). Faz sentido? Não. Mas é assim."
      ]
    },
    {
      "cell_type": "markdown",
      "metadata": {
        "id": "lIHiXqf0g9gE"
      },
      "source": [
        "Em matrizes as funções operam em todos os elemntos."
      ]
    },
    {
      "cell_type": "code",
      "execution_count": null,
      "metadata": {
        "id": "FC4QtOO4g9gE",
        "outputId": "c521e1dc-73ec-4e3a-809d-13cbb6044159"
      },
      "outputs": [
        {
          "data": {
            "text/plain": [
              "0.01412626452440558"
            ]
          },
          "execution_count": 29,
          "metadata": {},
          "output_type": "execute_result"
        }
      ],
      "source": [
        "np.median(X)"
      ]
    },
    {
      "cell_type": "code",
      "execution_count": null,
      "metadata": {
        "id": "mABgoGLng9gE",
        "outputId": "d3932b6b-479f-4e20-fbf8-b713f592e406"
      },
      "outputs": [
        {
          "data": {
            "text/plain": [
              "-0.00791608029237454"
            ]
          },
          "execution_count": 30,
          "metadata": {},
          "output_type": "execute_result"
        }
      ],
      "source": [
        "X.mean()"
      ]
    },
    {
      "cell_type": "code",
      "execution_count": null,
      "metadata": {
        "id": "bWkAPSJYg9gE",
        "outputId": "10a9f184-3a5b-419c-fb7e-47f125c60470"
      },
      "outputs": [
        {
          "data": {
            "text/plain": [
              "array([[2.27488703, 2.27272917, 2.24047039, 2.23671697, 2.33066545,\n",
              "        2.23883825, 2.29598897, 2.46734036],\n",
              "       [2.14944565, 2.48638239, 2.37946255, 2.48549363, 2.34268237,\n",
              "        2.42346036, 2.29834422, 2.3337803 ],\n",
              "       [2.35951308, 2.36060189, 2.22172819, 2.21365343, 2.44081253,\n",
              "        2.14636883, 2.2073964 , 2.3759927 ],\n",
              "       [2.30169363, 2.40140478, 2.50523343, 2.26557939, 2.30193596,\n",
              "        2.31209492, 2.18512947, 2.13111418],\n",
              "       [2.29731202, 2.23352368, 2.31396287, 2.17411559, 2.39259595,\n",
              "        2.20972495, 2.16264281, 1.96478233],\n",
              "       [2.44293721, 2.20502113, 2.1448489 , 2.33581324, 2.62139828,\n",
              "        2.33380357, 2.34315273, 2.31890865],\n",
              "       [2.31100217, 2.34060119, 2.30605324, 2.14786076, 2.11580984,\n",
              "        2.34891934, 2.45543737, 2.22606484],\n",
              "       [2.21370794, 2.28823125, 2.24649523, 2.31921268, 2.35319624,\n",
              "        2.23658977, 2.05294832, 2.38571008],\n",
              "       [2.25595873, 2.31057521, 2.31373612, 2.44415409, 2.33463061,\n",
              "        2.21698136, 2.26182263, 2.32644163]])"
            ]
          },
          "execution_count": 31,
          "metadata": {},
          "output_type": "execute_result"
        }
      ],
      "source": [
        "np.log(X + 10)"
      ]
    },
    {
      "cell_type": "markdown",
      "metadata": {
        "id": "O3-B4IUQg9gE"
      },
      "source": [
        "Porém, caso você queira a media de linhas ou colunas use `axis`. Antes, vamos ver o tamanho do vetor."
      ]
    },
    {
      "cell_type": "code",
      "execution_count": null,
      "metadata": {
        "id": "6zXCaYKzg9gF",
        "outputId": "6ea15707-5767-4a91-d371-e77ad7e2188d"
      },
      "outputs": [
        {
          "data": {
            "text/plain": [
              "(9, 8)"
            ]
          },
          "execution_count": 32,
          "metadata": {},
          "output_type": "execute_result"
        }
      ],
      "source": [
        "X.shape"
      ]
    },
    {
      "cell_type": "code",
      "execution_count": null,
      "metadata": {
        "id": "Tw5u4GlYg9gF",
        "outputId": "854201da-386a-4b4c-c030-c4f84a51f11a"
      },
      "outputs": [
        {
          "data": {
            "text/plain": [
              "array([-0.09816133,  0.23198895, -0.00854244, -0.0508197 ,  0.66751894,\n",
              "       -0.24866061, -0.44146791, -0.11518455])"
            ]
          },
          "execution_count": 33,
          "metadata": {},
          "output_type": "execute_result"
        }
      ],
      "source": [
        "np.mean(X, axis=0) # média das colunas. como temos 8 colunas, temos 8 elementos."
      ]
    },
    {
      "cell_type": "code",
      "execution_count": null,
      "metadata": {
        "id": "lKMMUpk_g9gF",
        "outputId": "88b0b89c-7e9e-4252-a1d9-5e8401355bcb"
      },
      "outputs": [
        {
          "data": {
            "text/plain": [
              "(8,)"
            ]
          },
          "execution_count": 34,
          "metadata": {},
          "output_type": "execute_result"
        }
      ],
      "source": [
        "np.mean(X, axis=0).shape"
      ]
    },
    {
      "cell_type": "code",
      "execution_count": null,
      "metadata": {
        "id": "HLsVfTJyg9gF",
        "outputId": "8f820d3f-2c99-419b-ead9-65b93f221b8a"
      },
      "outputs": [
        {
          "data": {
            "text/plain": [
              "array([-0.05181537,  0.67155966, -0.0693407 ,  0.03974946, -0.74106902,\n",
              "        0.51331143, -0.15516545, -0.35407779,  0.07560306])"
            ]
          },
          "execution_count": 35,
          "metadata": {},
          "output_type": "execute_result"
        }
      ],
      "source": [
        "np.mean(X, axis=1) # média das linhas"
      ]
    },
    {
      "cell_type": "code",
      "execution_count": null,
      "metadata": {
        "id": "vgvLLSpeg9gF",
        "outputId": "fd88999c-1bff-4c09-ccaf-74d92a09b984"
      },
      "outputs": [
        {
          "data": {
            "text/plain": [
              "(9,)"
            ]
          },
          "execution_count": 36,
          "metadata": {},
          "output_type": "execute_result"
        }
      ],
      "source": [
        "np.mean(X, axis=1).shape"
      ]
    },
    {
      "cell_type": "markdown",
      "metadata": {
        "id": "mR3Irgv7g9gG"
      },
      "source": [
        "Lembre-se que eixo 0 é coluna. Eixo 1 é linas."
      ]
    },
    {
      "cell_type": "markdown",
      "metadata": {
        "id": "diAN1UCMg9gG"
      },
      "source": [
        "### Multiplicação de Matrizes"
      ]
    },
    {
      "cell_type": "markdown",
      "metadata": {
        "id": "OWfQcpJ-g9gG"
      },
      "source": [
        "Para transpor uma matriz fazemos uso de .T"
      ]
    },
    {
      "cell_type": "code",
      "execution_count": null,
      "metadata": {
        "id": "Po1WZoQsg9gG",
        "outputId": "f2667936-e840-45d0-8ce3-9a293dd02fb0"
      },
      "outputs": [
        {
          "data": {
            "text/plain": [
              "(9, 8)"
            ]
          },
          "execution_count": 37,
          "metadata": {},
          "output_type": "execute_result"
        }
      ],
      "source": [
        "X.shape"
      ]
    },
    {
      "cell_type": "code",
      "execution_count": null,
      "metadata": {
        "id": "e4Zfa_R5g9gG",
        "outputId": "d1d8a334-0b64-48d7-daa0-757c76c9fee3"
      },
      "outputs": [
        {
          "data": {
            "text/plain": [
              "(8, 9)"
            ]
          },
          "execution_count": 38,
          "metadata": {},
          "output_type": "execute_result"
        }
      ],
      "source": [
        "X.T.shape"
      ]
    },
    {
      "cell_type": "code",
      "execution_count": null,
      "metadata": {
        "id": "NK4w8ebcg9gG",
        "outputId": "9f399686-688e-4297-bf31-d0fad8876b81"
      },
      "outputs": [
        {
          "data": {
            "text/plain": [
              "array([[-0.27317993, -1.41989931,  0.58579576, -0.00891063, -0.05259193,\n",
              "         1.50678901,  0.08452597, -0.8504203 , -0.45556057],\n",
              "       [-0.29414633,  2.01772199,  0.59732797,  1.03867245, -0.66730637,\n",
              "        -0.92955681,  0.38747958, -0.14251315,  0.08022124],\n",
              "       [-0.6022491 ,  0.79909735, -0.77674338,  2.24641729,  0.11442752,\n",
              "        -1.45924939,  0.03474171, -0.54545833,  0.11213436],\n",
              "       [-0.63745675,  2.00704578, -0.8509191 , -0.36329358, -1.20559619,\n",
              "         0.3378637 , -1.43348703,  0.16766592,  1.52079991],\n",
              "       [ 0.28478323,  0.40912025,  1.48236667, -0.00648919,  0.94186158,\n",
              "         3.7549434 , -1.7036983 ,  0.51913773,  0.32564504],\n",
              "       [-0.61757506,  1.28484141, -1.44625812,  0.0955519 , -0.88679058,\n",
              "         0.31710889,  0.47424453, -0.63864761, -0.82042081],\n",
              "       [-0.06574421, -0.04231897, -0.90798637, -1.10820027, -1.3059159 ,\n",
              "         0.41401744,  1.65152842, -2.2091628 , -0.39942851],\n",
              "       [ 1.79104517,  0.31686876,  0.76169099, -1.5757523 , -2.86664027,\n",
              "         0.16457517, -0.73665845,  0.86677625,  0.24143379]])"
            ]
          },
          "execution_count": 39,
          "metadata": {},
          "output_type": "execute_result"
        }
      ],
      "source": [
        "X.T"
      ]
    },
    {
      "cell_type": "markdown",
      "metadata": {
        "id": "hgrj5CKDg9gH"
      },
      "source": [
        "Para multiplicar matrizes, do ponto de visto de multiplicação matricial como definido na álgebra linear, fazemos uso de `@`."
      ]
    },
    {
      "cell_type": "code",
      "execution_count": null,
      "metadata": {
        "id": "0fG5LeSzg9gH",
        "outputId": "64c07de0-99b8-4696-d199-d24bb1c7028c"
      },
      "outputs": [
        {
          "data": {
            "text/plain": [
              "array([[ 4.60486997, -2.07294499,  3.41373158, -4.23465062, -3.32228533,\n",
              "         1.66630803, -1.45023698,  2.73578912,  0.12196485],\n",
              "       [-2.07294499, 12.67449894, -2.92702136,  2.8420691 , -5.20714587,\n",
              "        -2.52476435, -2.57850786,  0.58057083,  3.12315919],\n",
              "       [ 3.41373158, -2.92702136,  7.7210369 , -1.16236568,  2.1885472 ,\n",
              "         6.03040284, -3.79829355,  4.05701847,  0.61571484],\n",
              "       [-4.23465062,  2.8420691 , -1.16236568,  9.97756818,  5.87587812,\n",
              "        -5.09196838,  0.38746981, -0.40870831, -0.23151235],\n",
              "       [-3.32228533, -5.20714587,  2.1885472 ,  5.87587812, 13.51116309,\n",
              "         2.20972677, -0.60105706,  1.33082004, -0.98644245],\n",
              "       [ 1.66630803, -2.52476435,  6.03040284, -5.09196838,  2.20972677,\n",
              "        19.77670308, -6.45221918,  0.67850795,  0.4261668 ],\n",
              "       [-1.45023698, -2.57850786, -3.79829355,  0.38746981, -0.60105706,\n",
              "        -6.45221918,  8.61108467, -5.86074302, -3.96497656],\n",
              "       [ 2.73578912,  0.58057083,  4.05701847, -0.40870831,  1.33082004,\n",
              "         0.67850795, -5.86074302,  7.37823746,  2.35449317],\n",
              "       [ 0.12196485,  3.12315919,  0.61571484, -0.23151235, -0.98644245,\n",
              "         0.4261668 , -3.96497656,  2.35449317,  3.53634576]])"
            ]
          },
          "execution_count": 40,
          "metadata": {},
          "output_type": "execute_result"
        }
      ],
      "source": [
        "X @ X.T"
      ]
    },
    {
      "cell_type": "markdown",
      "metadata": {
        "id": "qBZEsnSPg9gH"
      },
      "source": [
        "O uso de `*` realiza uma operação ponto a ponto"
      ]
    },
    {
      "cell_type": "code",
      "execution_count": null,
      "metadata": {
        "id": "nhMOj5mxg9gH",
        "outputId": "75db2a66-9938-4cce-a895-34e1c49a3b5d"
      },
      "outputs": [
        {
          "data": {
            "text/plain": [
              "array([[7.46272751e-02, 8.65220619e-02, 3.62703977e-01, 4.06351107e-01,\n",
              "        8.11014905e-02, 3.81398953e-01, 4.32230071e-03, 3.20784280e+00],\n",
              "       [2.01611404e+00, 4.07120203e+00, 6.38556569e-01, 4.02823278e+00,\n",
              "        1.67379376e-01, 1.65081744e+00, 1.79089542e-03, 1.00405808e-01],\n",
              "       [3.43156675e-01, 3.56800704e-01, 6.03330282e-01, 7.24063310e-01,\n",
              "        2.19741095e+00, 2.09166256e+00, 8.24439255e-01, 5.80173161e-01],\n",
              "       [7.93994158e-05, 1.07884046e+00, 5.04639066e+00, 1.31982226e-01,\n",
              "        4.21095331e-05, 9.13016567e-03, 1.22810784e+00, 2.48299533e+00],\n",
              "       [2.76591069e-03, 4.45297797e-01, 1.30936574e-02, 1.45346218e+00,\n",
              "        8.87103239e-01, 7.86397538e-01, 1.70541634e+00, 8.21762643e+00],\n",
              "       [2.27041312e+00, 8.64075856e-01, 2.12940879e+00, 1.14151877e-01,\n",
              "        1.40996000e+01, 1.00558050e-01, 1.71410442e-01, 2.70849850e-02],\n",
              "       [7.14463932e-03, 1.50140427e-01, 1.20698675e-03, 2.05488506e+00,\n",
              "        2.90258790e+00, 2.24907874e-01, 2.72754611e+00, 5.42665677e-01],\n",
              "       [7.23214693e-01, 2.03099971e-02, 2.97524794e-01, 2.81118613e-02,\n",
              "        2.69503985e-01, 4.07870773e-01, 4.88040029e+00, 7.51301065e-01],\n",
              "       [2.07535429e-01, 6.43544790e-03, 1.25741155e-02, 2.31283236e+00,\n",
              "        1.06044690e-01, 6.73090312e-01, 1.59543135e-01, 5.82902761e-02]])"
            ]
          },
          "execution_count": 41,
          "metadata": {},
          "output_type": "execute_result"
        }
      ],
      "source": [
        "X * X"
      ]
    },
    {
      "cell_type": "markdown",
      "metadata": {
        "id": "QLZF0Pyug9gH"
      },
      "source": [
        "Observe a diferença de tamanhos"
      ]
    },
    {
      "cell_type": "code",
      "execution_count": null,
      "metadata": {
        "id": "uuttFf2Ag9gI",
        "outputId": "bd571110-769c-4c10-d113-723818f26daf"
      },
      "outputs": [
        {
          "data": {
            "text/plain": [
              "(9, 8)"
            ]
          },
          "execution_count": 42,
          "metadata": {},
          "output_type": "execute_result"
        }
      ],
      "source": [
        "(X * X).shape"
      ]
    },
    {
      "cell_type": "code",
      "execution_count": null,
      "metadata": {
        "id": "OKf9wGHwg9gI",
        "outputId": "89774b3e-fcb1-42ff-a951-c73e615ce736"
      },
      "outputs": [
        {
          "data": {
            "text/plain": [
              "(9, 9)"
            ]
          },
          "execution_count": 43,
          "metadata": {},
          "output_type": "execute_result"
        }
      ],
      "source": [
        "(X @ X.T).shape"
      ]
    },
    {
      "cell_type": "markdown",
      "metadata": {
        "id": "KCcBoCQrg9gI"
      },
      "source": [
        "**Pense:** Para o nosso `X` de tamanho `(9, 8)`, qual o motivo de `X * X.T` não funcionar? Qual o motivo de `X @ X` não funcionar?"
      ]
    },
    {
      "cell_type": "markdown",
      "metadata": {
        "id": "hTgr55vEg9gI"
      },
      "source": [
        "## Correção Automática\n",
        "\n",
        "Nossa correção automática depende das funções abaixo. Tais funções comparam valores que serão computados pelo seu código com uma saída esperada. Normalmente, vocês não fazer uso de tais funções em notebooks como este. Porém, elas são chave em ambientes de testes automáticos (fora do nosso escopo).\n",
        "\n",
        "Observe como algumas funções comparam valores e outras comparam vetores. Além do mais, temos funções para comparar dentro de algumas casas decimais."
      ]
    },
    {
      "cell_type": "code",
      "execution_count": null,
      "metadata": {
        "id": "Y-xLmNYEg9gJ"
      },
      "outputs": [],
      "source": [
        "from numpy.testing import assert_almost_equal\n",
        "from numpy.testing import assert_equal\n",
        "\n",
        "from numpy.testing import assert_array_almost_equal\n",
        "from numpy.testing import assert_array_equal"
      ]
    },
    {
      "cell_type": "code",
      "execution_count": null,
      "metadata": {
        "id": "YxZiqGWkg9gJ"
      },
      "outputs": [],
      "source": [
        "# caso você mude um dos valores vamos receber um erro!\n",
        "assert_array_equal(2, 2)\n",
        "\n",
        "# caso você mude um dos valores vamos receber um erro!\n",
        "assert_array_equal([1, 2], [1, 2])\n",
        "\n",
        "# caso você mude um dos valores vamos receber um erro!\n",
        "assert_almost_equal(3.1415, 3.14, 1)"
      ]
    },
    {
      "cell_type": "markdown",
      "metadata": {
        "id": "5ujZZx27g9gJ"
      },
      "source": [
        "Caso você mude um dos valores abaixo vamos receber um erro! Como o abaixo.\n",
        "\n",
        "```\n",
        "-----------------------------------------------------------------------\n",
        "AssertionError                        Traceback (most recent call last)\n",
        "<ipython-input-10-396672d880f2> in <module>\n",
        "----> 1 assert_equal(2, 3) # caso você mude um dos valores vamos receber um erro!\n",
        "\n",
        "~/miniconda3/lib/python3.7/site-packages/numpy/testing/_private/utils.py in assert_equal(actual, desired, err_msg, verbose)\n",
        "    413         # Explicitly use __eq__ for comparison, gh-2552\n",
        "    414         if not (desired == actual):\n",
        "--> 415             raise AssertionError(msg)\n",
        "    416 \n",
        "    417     except (DeprecationWarning, FutureWarning) as e:\n",
        "\n",
        "AssertionError: \n",
        "Items are not equal:\n",
        " ACTUAL: 2\n",
        " DESIRED: 3\n",
        " ```"
      ]
    },
    {
      "cell_type": "markdown",
      "metadata": {
        "id": "LTPZKLnPg9gJ"
      },
      "source": [
        "É essencial que todo seu código execute sem erros! Portanto, antes de submeter clique em `Kernel` no menu acima. Depois clique em `Restart & Execute All.`\n",
        "\n",
        "**Garanta que o notebook executa até o fim!** Isto é, sem erros como o acima."
      ]
    },
    {
      "cell_type": "markdown",
      "metadata": {
        "id": "uSVxhyF0g9gK"
      },
      "source": [
        "## Funções em Python"
      ]
    },
    {
      "cell_type": "markdown",
      "metadata": {
        "id": "bcMx6Chkg9gK"
      },
      "source": [
        "Para criar uma função em Python fazemos uso da palavra-chave: \n",
        "```python\n",
        "def\n",
        "```\n",
        "\n",
        "Todos nossos exercícios farão uso de funções. **Mantenha a assinatura das funções exatamente como requisitado, a correção automática depende disso.** Abaixo, temos um exempo de uma função que imprime algo na tela!"
      ]
    },
    {
      "cell_type": "code",
      "execution_count": null,
      "metadata": {
        "id": "QSIYTwcVg9gK"
      },
      "outputs": [],
      "source": [
        "def print_something(txt):\n",
        "    print(f'Você passou o argumento: {txt}')"
      ]
    },
    {
      "cell_type": "code",
      "execution_count": null,
      "metadata": {
        "id": "3HdO6nIDg9gK",
        "outputId": "041a9fe2-b836-41b2-f6a9-d9faefd98745"
      },
      "outputs": [
        {
          "name": "stdout",
          "output_type": "stream",
          "text": [
            "Você passou o argumento: DCC 212\n"
          ]
        }
      ],
      "source": [
        "print_something('DCC 212')"
      ]
    },
    {
      "cell_type": "markdown",
      "metadata": {
        "id": "81PLXR1Qg9gL"
      },
      "source": [
        "Podemos também dizer o tipo do argumento, porém faremos pouco uso disto em ICD."
      ]
    },
    {
      "cell_type": "code",
      "execution_count": null,
      "metadata": {
        "id": "BbPxSloZg9gL"
      },
      "outputs": [],
      "source": [
        "def print_something(txt: str):\n",
        "    print(f'Você passou o argumento: {txt}')"
      ]
    },
    {
      "cell_type": "code",
      "execution_count": null,
      "metadata": {
        "id": "vI08SVNgg9gL",
        "outputId": "aa072e01-7f81-408c-a5df-e4ec090055f6"
      },
      "outputs": [
        {
          "name": "stdout",
          "output_type": "stream",
          "text": [
            "Você passou o argumento: DCC 212\n"
          ]
        }
      ],
      "source": [
        "print_something('DCC 212')"
      ]
    },
    {
      "cell_type": "markdown",
      "metadata": {
        "id": "170UKrCcg9gL"
      },
      "source": [
        "Abaixo temos uma função que soma, a soma, dois vetores"
      ]
    },
    {
      "cell_type": "code",
      "execution_count": null,
      "metadata": {
        "id": "sDEaUQNig9gL"
      },
      "outputs": [],
      "source": [
        "def sum_of_sum_vectors(array_1, array_2):\n",
        "    return (array_1 + array_2).sum()"
      ]
    },
    {
      "cell_type": "code",
      "execution_count": null,
      "metadata": {
        "id": "N8DXD3S9g9gL"
      },
      "outputs": [],
      "source": [
        "x = np.array([1, 2])\n",
        "y = np.array([1, 2])"
      ]
    },
    {
      "cell_type": "code",
      "execution_count": null,
      "metadata": {
        "id": "qbmewhLag9gM",
        "outputId": "5a3885b3-c82d-4a3d-ab72-a5885fe64676"
      },
      "outputs": [
        {
          "data": {
            "text/plain": [
              "6"
            ]
          },
          "execution_count": 52,
          "metadata": {},
          "output_type": "execute_result"
        }
      ],
      "source": [
        "sum_of_sum_vectors(x, y)"
      ]
    },
    {
      "cell_type": "markdown",
      "metadata": {
        "id": "qPnv__Chg9gM"
      },
      "source": [
        "Abaixo temos um teste, tais testes vão avaliar o seu código. Nem todos estão aqui no notebook!"
      ]
    },
    {
      "cell_type": "code",
      "execution_count": null,
      "metadata": {
        "id": "nuUnbHzIg9gM"
      },
      "outputs": [],
      "source": [
        "assert_equal(6, sum_of_sum_vectors(x, y))"
      ]
    },
    {
      "cell_type": "markdown",
      "metadata": {
        "id": "3Gsl8JKPg9gM"
      },
      "source": [
        "## Exercício 01\n",
        "\n",
        "Inicialmente, crie uma função que recebe duas listas de numéros, converte as duas para um vetor numpy usando `np.array` e retorna o produto interno das duas listas. \n",
        "\n",
        "__Dicas:__  \n",
        "1. Tente fazer um código sem nenhum **for**! Ou seja, numpy permite operações em vetores e matrizes, onde: `np.array([1, 2]) + np.array([2, 2]) = np.array([3, 4])`.\n",
        "\n",
        "__Funções:__\n",
        "1. `np.sum(array)` soma os elementos do array. `array.sum()` tem o mesmo efeito!"
      ]
    },
    {
      "cell_type": "code",
      "execution_count": null,
      "metadata": {
        "id": "R01TpB25g9gM"
      },
      "outputs": [],
      "source": [
        "def inner(array_1, array_2):\n",
        "    # Seu código aqui!\n",
        "    # Apague o return None abaixo e mude para seu retorno\n",
        "    return None"
      ]
    },
    {
      "cell_type": "code",
      "execution_count": null,
      "metadata": {
        "id": "FHE-9EnJg9gM",
        "outputId": "e901c26c-2e4b-49d9-cebc-99e8fb525f77"
      },
      "outputs": [
        {
          "ename": "AssertionError",
          "evalue": "\nItems are not equal:\n ACTUAL: 8420\n DESIRED: None",
          "output_type": "error",
          "traceback": [
            "\u001b[0;31m-----------------------------------------------------------------------\u001b[0m",
            "\u001b[0;31mAssertionError\u001b[0m                        Traceback (most recent call last)",
            "\u001b[0;32m<ipython-input-55-036b81e3788e>\u001b[0m in \u001b[0;36m<module>\u001b[0;34m\u001b[0m\n\u001b[1;32m      1\u001b[0m \u001b[0mx1\u001b[0m \u001b[0;34m=\u001b[0m \u001b[0mnp\u001b[0m\u001b[0;34m.\u001b[0m\u001b[0marray\u001b[0m\u001b[0;34m(\u001b[0m\u001b[0;34m[\u001b[0m\u001b[0;36m2\u001b[0m\u001b[0;34m,\u001b[0m \u001b[0;36m4\u001b[0m\u001b[0;34m,\u001b[0m \u001b[0;36m8\u001b[0m\u001b[0;34m]\u001b[0m\u001b[0;34m)\u001b[0m\u001b[0;34m\u001b[0m\u001b[0;34m\u001b[0m\u001b[0m\n\u001b[1;32m      2\u001b[0m \u001b[0mx2\u001b[0m \u001b[0;34m=\u001b[0m \u001b[0mnp\u001b[0m\u001b[0;34m.\u001b[0m\u001b[0marray\u001b[0m\u001b[0;34m(\u001b[0m\u001b[0;34m[\u001b[0m\u001b[0;36m10\u001b[0m\u001b[0;34m,\u001b[0m \u001b[0;36m100\u001b[0m\u001b[0;34m,\u001b[0m \u001b[0;36m1000\u001b[0m\u001b[0;34m]\u001b[0m\u001b[0;34m)\u001b[0m\u001b[0;34m\u001b[0m\u001b[0;34m\u001b[0m\u001b[0m\n\u001b[0;32m----> 3\u001b[0;31m \u001b[0massert_equal\u001b[0m\u001b[0;34m(\u001b[0m\u001b[0;36m20\u001b[0m \u001b[0;34m+\u001b[0m \u001b[0;36m400\u001b[0m \u001b[0;34m+\u001b[0m \u001b[0;36m8000\u001b[0m\u001b[0;34m,\u001b[0m \u001b[0minner\u001b[0m\u001b[0;34m(\u001b[0m\u001b[0mx1\u001b[0m\u001b[0;34m,\u001b[0m \u001b[0mx2\u001b[0m\u001b[0;34m)\u001b[0m\u001b[0;34m)\u001b[0m\u001b[0;34m\u001b[0m\u001b[0;34m\u001b[0m\u001b[0m\n\u001b[0m",
            "\u001b[0;32m~/miniconda3/lib/python3.7/site-packages/numpy/testing/_private/utils.py\u001b[0m in \u001b[0;36massert_equal\u001b[0;34m(actual, desired, err_msg, verbose)\u001b[0m\n\u001b[1;32m    378\u001b[0m     \u001b[0;31m# isscalar test to check cases such as [np.nan] != np.nan\u001b[0m\u001b[0;34m\u001b[0m\u001b[0;34m\u001b[0m\u001b[0;34m\u001b[0m\u001b[0m\n\u001b[1;32m    379\u001b[0m     \u001b[0;32mif\u001b[0m \u001b[0misscalar\u001b[0m\u001b[0;34m(\u001b[0m\u001b[0mdesired\u001b[0m\u001b[0;34m)\u001b[0m \u001b[0;34m!=\u001b[0m \u001b[0misscalar\u001b[0m\u001b[0;34m(\u001b[0m\u001b[0mactual\u001b[0m\u001b[0;34m)\u001b[0m\u001b[0;34m:\u001b[0m\u001b[0;34m\u001b[0m\u001b[0;34m\u001b[0m\u001b[0m\n\u001b[0;32m--> 380\u001b[0;31m         \u001b[0;32mraise\u001b[0m \u001b[0mAssertionError\u001b[0m\u001b[0;34m(\u001b[0m\u001b[0mmsg\u001b[0m\u001b[0;34m)\u001b[0m\u001b[0;34m\u001b[0m\u001b[0;34m\u001b[0m\u001b[0m\n\u001b[0m\u001b[1;32m    381\u001b[0m \u001b[0;34m\u001b[0m\u001b[0m\n\u001b[1;32m    382\u001b[0m     \u001b[0;31m# Inf/nan/negative zero handling\u001b[0m\u001b[0;34m\u001b[0m\u001b[0;34m\u001b[0m\u001b[0;34m\u001b[0m\u001b[0m\n",
            "\u001b[0;31mAssertionError\u001b[0m: \nItems are not equal:\n ACTUAL: 8420\n DESIRED: None"
          ]
        }
      ],
      "source": [
        "x1 = np.array([2, 4, 8])\n",
        "x2 = np.array([10, 100, 1000])\n",
        "assert_equal(20 + 400 + 8000, inner(x1, x2))"
      ]
    },
    {
      "cell_type": "markdown",
      "metadata": {
        "id": "yj9_PKAmg9gN"
      },
      "source": [
        "## Exercício 02\n",
        "\n",
        "Implemente uma função utilizando numpy que recebe duas matrizes, multiplica as duas e retorne o valor médio das células da multiplicação. Por exemplo, ao multiplicar:\n",
        "\n",
        "```\n",
        "[1 2]\n",
        "[3 4] \n",
        "\n",
        "com \n",
        "\n",
        "[2 1]\n",
        "[1 2]\n",
        "\n",
        "temos\n",
        "\n",
        "[4  5 ]\n",
        "[10 11]\n",
        "\n",
        "onde a média de [4, 5, 10, 11] é\n",
        "\n",
        "7.5, sua resposta final!\n",
        "```\n",
        "\n",
        "\n",
        "__Dicas:__  \n",
        "1. Use o operador @ para multiplicar matrizes!"
      ]
    },
    {
      "cell_type": "code",
      "execution_count": null,
      "metadata": {
        "id": "9_T9SYXNg9gN"
      },
      "outputs": [],
      "source": [
        "def medmult(X_1, X_2):\n",
        "    # Seu código aqui!\n",
        "    # Apague o return None abaixo e mude para seu retorno\n",
        "    return None"
      ]
    },
    {
      "cell_type": "code",
      "execution_count": null,
      "metadata": {
        "id": "2MZb4VYRg9gN",
        "outputId": "3cee17fe-1137-4903-be94-968a1ac37274"
      },
      "outputs": [
        {
          "ename": "AssertionError",
          "evalue": "\nItems are not equal:\n ACTUAL: 7.5\n DESIRED: None",
          "output_type": "error",
          "traceback": [
            "\u001b[0;31m-----------------------------------------------------------------------\u001b[0m",
            "\u001b[0;31mAssertionError\u001b[0m                        Traceback (most recent call last)",
            "\u001b[0;32m<ipython-input-57-20ce98a4ecf3>\u001b[0m in \u001b[0;36m<module>\u001b[0;34m\u001b[0m\n\u001b[1;32m      1\u001b[0m \u001b[0mX\u001b[0m \u001b[0;34m=\u001b[0m \u001b[0mnp\u001b[0m\u001b[0;34m.\u001b[0m\u001b[0marray\u001b[0m\u001b[0;34m(\u001b[0m\u001b[0;34m[\u001b[0m\u001b[0;36m1\u001b[0m\u001b[0;34m,\u001b[0m \u001b[0;36m2\u001b[0m\u001b[0;34m,\u001b[0m \u001b[0;36m3\u001b[0m\u001b[0;34m,\u001b[0m \u001b[0;36m4\u001b[0m\u001b[0;34m]\u001b[0m\u001b[0;34m)\u001b[0m\u001b[0;34m.\u001b[0m\u001b[0mreshape\u001b[0m\u001b[0;34m(\u001b[0m\u001b[0;36m2\u001b[0m\u001b[0;34m,\u001b[0m \u001b[0;36m2\u001b[0m\u001b[0;34m)\u001b[0m\u001b[0;34m\u001b[0m\u001b[0;34m\u001b[0m\u001b[0m\n\u001b[1;32m      2\u001b[0m \u001b[0mY\u001b[0m \u001b[0;34m=\u001b[0m \u001b[0mnp\u001b[0m\u001b[0;34m.\u001b[0m\u001b[0marray\u001b[0m\u001b[0;34m(\u001b[0m\u001b[0;34m[\u001b[0m\u001b[0;36m2\u001b[0m\u001b[0;34m,\u001b[0m \u001b[0;36m1\u001b[0m\u001b[0;34m,\u001b[0m \u001b[0;36m1\u001b[0m\u001b[0;34m,\u001b[0m \u001b[0;36m2\u001b[0m\u001b[0;34m]\u001b[0m\u001b[0;34m)\u001b[0m\u001b[0;34m.\u001b[0m\u001b[0mreshape\u001b[0m\u001b[0;34m(\u001b[0m\u001b[0;36m2\u001b[0m\u001b[0;34m,\u001b[0m \u001b[0;36m2\u001b[0m\u001b[0;34m)\u001b[0m\u001b[0;34m\u001b[0m\u001b[0;34m\u001b[0m\u001b[0m\n\u001b[0;32m----> 3\u001b[0;31m \u001b[0massert_equal\u001b[0m\u001b[0;34m(\u001b[0m\u001b[0;36m7.5\u001b[0m\u001b[0;34m,\u001b[0m \u001b[0mmedmult\u001b[0m\u001b[0;34m(\u001b[0m\u001b[0mX\u001b[0m\u001b[0;34m,\u001b[0m \u001b[0mY\u001b[0m\u001b[0;34m)\u001b[0m\u001b[0;34m)\u001b[0m\u001b[0;34m\u001b[0m\u001b[0;34m\u001b[0m\u001b[0m\n\u001b[0m",
            "\u001b[0;32m~/miniconda3/lib/python3.7/site-packages/numpy/testing/_private/utils.py\u001b[0m in \u001b[0;36massert_equal\u001b[0;34m(actual, desired, err_msg, verbose)\u001b[0m\n\u001b[1;32m    378\u001b[0m     \u001b[0;31m# isscalar test to check cases such as [np.nan] != np.nan\u001b[0m\u001b[0;34m\u001b[0m\u001b[0;34m\u001b[0m\u001b[0;34m\u001b[0m\u001b[0m\n\u001b[1;32m    379\u001b[0m     \u001b[0;32mif\u001b[0m \u001b[0misscalar\u001b[0m\u001b[0;34m(\u001b[0m\u001b[0mdesired\u001b[0m\u001b[0;34m)\u001b[0m \u001b[0;34m!=\u001b[0m \u001b[0misscalar\u001b[0m\u001b[0;34m(\u001b[0m\u001b[0mactual\u001b[0m\u001b[0;34m)\u001b[0m\u001b[0;34m:\u001b[0m\u001b[0;34m\u001b[0m\u001b[0;34m\u001b[0m\u001b[0m\n\u001b[0;32m--> 380\u001b[0;31m         \u001b[0;32mraise\u001b[0m \u001b[0mAssertionError\u001b[0m\u001b[0;34m(\u001b[0m\u001b[0mmsg\u001b[0m\u001b[0;34m)\u001b[0m\u001b[0;34m\u001b[0m\u001b[0;34m\u001b[0m\u001b[0m\n\u001b[0m\u001b[1;32m    381\u001b[0m \u001b[0;34m\u001b[0m\u001b[0m\n\u001b[1;32m    382\u001b[0m     \u001b[0;31m# Inf/nan/negative zero handling\u001b[0m\u001b[0;34m\u001b[0m\u001b[0;34m\u001b[0m\u001b[0;34m\u001b[0m\u001b[0m\n",
            "\u001b[0;31mAssertionError\u001b[0m: \nItems are not equal:\n ACTUAL: 7.5\n DESIRED: None"
          ]
        }
      ],
      "source": [
        "X = np.array([1, 2, 3, 4]).reshape(2, 2)\n",
        "Y = np.array([2, 1, 1, 2]).reshape(2, 2)\n",
        "assert_equal(7.5, medmult(X, Y))"
      ]
    },
    {
      "cell_type": "code",
      "execution_count": null,
      "metadata": {
        "id": "Kd4CSY3Og9gN"
      },
      "outputs": [],
      "source": [
        ""
      ]
    }
  ],
  "metadata": {
    "kernelspec": {
      "display_name": "Python 3",
      "language": "python",
      "name": "python3"
    },
    "language_info": {
      "codemirror_mode": {
        "name": "ipython",
        "version": 3
      },
      "file_extension": ".py",
      "mimetype": "text/x-python",
      "name": "python",
      "nbconvert_exporter": "python",
      "pygments_lexer": "ipython3",
      "version": "3.7.3"
    },
    "colab": {
      "name": "dcc212l1.ipynb",
      "provenance": []
    }
  },
  "nbformat": 4,
  "nbformat_minor": 0
}